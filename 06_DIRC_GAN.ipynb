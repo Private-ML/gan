{
  "nbformat": 4,
  "nbformat_minor": 0,
  "metadata": {
    "colab": {
      "name": "Copy of 06_DIRC_GAN.ipynb",
      "provenance": [],
      "collapsed_sections": [],
      "include_colab_link": true
    },
    "language_info": {
      "codemirror_mode": {
        "name": "ipython",
        "version": 3
      },
      "file_extension": ".py",
      "mimetype": "text/x-python",
      "name": "python",
      "nbconvert_exporter": "python",
      "pygments_lexer": "ipython3",
      "version": "3.6.2"
    },
    "kernelspec": {
      "name": "python3",
      "display_name": "Python 3"
    },
    "accelerator": "GPU"
  },
  "cells": [
    {
      "cell_type": "markdown",
      "metadata": {
        "id": "view-in-github",
        "colab_type": "text"
      },
      "source": [
        "<a href=\"https://colab.research.google.com/github/Private-ML/gan/blob/junk%2Falexmir/06_DIRC_GAN.ipynb\" target=\"_parent\"><img src=\"https://colab.research.google.com/assets/colab-badge.svg\" alt=\"Open In Colab\"/></a>"
      ]
    },
    {
      "cell_type": "markdown",
      "metadata": {
        "id": "uxTtyO6DNdgt",
        "colab_type": "text"
      },
      "source": [
        "# Plan\n",
        "## This notebook\n",
        "1. Super-quick intro into BaBar DIRC subdetector\n",
        "2. You create a WGAP-GP GAN"
      ]
    },
    {
      "cell_type": "markdown",
      "metadata": {
        "id": "rdkNX1y7xdOt",
        "colab_type": "text"
      },
      "source": [
        "___Congradulations on making it to level two of the seminar!___\n",
        "\n",
        "Here is a bonus: a relaxing link to play with advanced GANs without writing code:\n",
        "* https://affinelayer.com/pixsrv/"
      ]
    },
    {
      "cell_type": "markdown",
      "metadata": {
        "id": "supPNekQTjJw",
        "colab_type": "text"
      },
      "source": [
        "# BaBar DIRC\n",
        "![DIRC scheme](https://www.slac.stanford.edu/BFROOT/www/Detector/DIRC/Gifs/NewDirc.gif)\n",
        "\n",
        "Detection of Internally Reflected Cherenkov light - a particle identification detector in other words. Unlike the calorimeter competition, we will only generate high-level observables (particle delta log-likelihoods (DLL)) that are obtained after the reconstruction.\n",
        "\n",
        "We want the generation to be conditional on full kinematics of event: energy, pseudorapidity and the distance between the particle track and DIRC bar side of signal particle. For the data-driven GAN this is just 11-D tabular data.\n",
        "\n",
        "Data was generated with [FastDIRC](https://github.com/jmhardin/FastDIRC) modified to simulate two particle-events."
      ]
    },
    {
      "cell_type": "markdown",
      "metadata": {
        "id": "rU--EKi1N_QZ",
        "colab_type": "text"
      },
      "source": [
        "### Task 1 (difficulty: a couple of years ago this would have been a [paper](https://www.sciencedirect.com/science/article/pii/S0168900219300701) in a good journal, now should be doable in 10-40 minutes*)\n",
        "\\* after Denis Derkach formulated the problem and I did all the dirty work of getting training data\n",
        "\n",
        "Create a conditional Jensen-Shannon GAN to generate Y given X\n",
        "\n",
        "### Task 2 (difficulty: ~5 lines of code after completing task 1)\n",
        "\n",
        "Create a conditional classical Wasserstein GAN wth gradient penalty to generate Y given X\n",
        "\n",
        "__Note__: Task 2 is easier to code and train than task 1. On the other hand, you have an example for JS GAN"
      ]
    },
    {
      "cell_type": "markdown",
      "metadata": {
        "id": "HoYbNS7Sv2Bz",
        "colab_type": "text"
      },
      "source": [
        "# Das Kode"
      ]
    },
    {
      "cell_type": "code",
      "metadata": {
        "id": "OePj7r78mHYa",
        "colab_type": "code",
        "colab": {}
      },
      "source": [
        "import requests\n",
        "import re\n",
        "\n",
        "URL_RE = r\"http[s]?://(?:[a-zA-Z]|[0-9]|[$-_@.&+]|[!*\\(\\), ]|(?:%[0-9a-fA-F][0-9a-fA-F]))+\"\n",
        "url_scrabber = re.compile(r'\\s*<input type=\"hidden\" name=\"downloadURL\" '\n",
        "                          'value=\"(?P<download_url>' + URL_RE + ')\" '\n",
        "                          'id=\"downloadURL\">')\n",
        "\n",
        "def get_cernbox_direct_link(url):\n",
        "  guard_page = requests.get(url)\n",
        "  for line in guard_page.text.split('\\n'):\n",
        "      match = url_scrabber.match(line)\n",
        "      if match:\n",
        "        return match.group('download_url')\n",
        "  raise RuntimeError(\"downloadURL not found. Most likely case is a change in CERNBox\")"
      ],
      "execution_count": 0,
      "outputs": []
    },
    {
      "cell_type": "code",
      "metadata": {
        "id": "-TvMbI2vmkDI",
        "colab_type": "code",
        "colab": {}
      },
      "source": [
        "data_url = get_cernbox_direct_link(\"https://cernbox.cern.ch/index.php/s/hWCh4umYQ0KShjW\")\n",
        "DATA_FILE_NAME = './kaons.hdf'"
      ],
      "execution_count": 0,
      "outputs": []
    },
    {
      "cell_type": "code",
      "metadata": {
        "id": "WthteI4csEDy",
        "colab_type": "code",
        "outputId": "269af892-341e-4259-e814-01837366b971",
        "colab": {
          "base_uri": "https://localhost:8080/",
          "height": 35
        }
      },
      "source": [
        "! wget \"$data_url\" -O \"$DATA_FILE_NAME\" -nc"
      ],
      "execution_count": 0,
      "outputs": [
        {
          "output_type": "stream",
          "text": [
            "File ‘./kaons.hdf’ already there; not retrieving.\n"
          ],
          "name": "stdout"
        }
      ]
    },
    {
      "cell_type": "code",
      "metadata": {
        "id": "Y8jryKf-06gb",
        "colab_type": "code",
        "colab": {}
      },
      "source": [
        "%matplotlib inline\n",
        "import matplotlib.pyplot as plt\n",
        "from IPython.display import clear_output\n",
        "import numpy as np\n",
        "import pandas as pd\n",
        "from scipy.stats import ks_2samp\n",
        "from sklearn.model_selection import train_test_split\n",
        "import torch\n",
        "import torch.nn as nn\n",
        "import torch.nn.functional as F\n",
        "import torch.utils.data"
      ],
      "execution_count": 0,
      "outputs": []
    },
    {
      "cell_type": "code",
      "metadata": {
        "id": "5_5D8_zxlkkK",
        "colab_type": "code",
        "outputId": "7d1b630c-cdab-43c7-81b4-0b6f49476e7a",
        "colab": {
          "base_uri": "https://localhost:8080/",
          "height": 222
        }
      },
      "source": [
        "data = pd.read_hdf(DATA_FILE_NAME)\n",
        "data.head()"
      ],
      "execution_count": 0,
      "outputs": [
        {
          "output_type": "execute_result",
          "data": {
            "text/html": [
              "<div>\n",
              "<style scoped>\n",
              "    .dataframe tbody tr th:only-of-type {\n",
              "        vertical-align: middle;\n",
              "    }\n",
              "\n",
              "    .dataframe tbody tr th {\n",
              "        vertical-align: top;\n",
              "    }\n",
              "\n",
              "    .dataframe thead th {\n",
              "        text-align: right;\n",
              "    }\n",
              "</style>\n",
              "<table border=\"1\" class=\"dataframe\">\n",
              "  <thead>\n",
              "    <tr style=\"text-align: right;\">\n",
              "      <th></th>\n",
              "      <th>dll_electron</th>\n",
              "      <th>dll_kaon</th>\n",
              "      <th>dll_muon</th>\n",
              "      <th>dll_proton</th>\n",
              "      <th>dll_bt</th>\n",
              "      <th>particle_one_energy</th>\n",
              "      <th>particle_two_energy</th>\n",
              "      <th>particle_one_eta</th>\n",
              "      <th>particle_two_eta</th>\n",
              "      <th>particle_one_x</th>\n",
              "      <th>particle_two_x</th>\n",
              "    </tr>\n",
              "  </thead>\n",
              "  <tbody>\n",
              "    <tr>\n",
              "      <th>48609366</th>\n",
              "      <td>-0.212708</td>\n",
              "      <td>2.314453</td>\n",
              "      <td>0.404724</td>\n",
              "      <td>-8.901489</td>\n",
              "      <td>-395.625427</td>\n",
              "      <td>5.761642</td>\n",
              "      <td>7.775553</td>\n",
              "      <td>-0.101042</td>\n",
              "      <td>-1.170546</td>\n",
              "      <td>4.806355</td>\n",
              "      <td>11.518691</td>\n",
              "    </tr>\n",
              "    <tr>\n",
              "      <th>85800802</th>\n",
              "      <td>-0.975586</td>\n",
              "      <td>7.093811</td>\n",
              "      <td>-0.254272</td>\n",
              "      <td>-118.109131</td>\n",
              "      <td>-125.633118</td>\n",
              "      <td>2.952495</td>\n",
              "      <td>4.515579</td>\n",
              "      <td>-1.027812</td>\n",
              "      <td>1.425283</td>\n",
              "      <td>8.347982</td>\n",
              "      <td>12.483961</td>\n",
              "    </tr>\n",
              "    <tr>\n",
              "      <th>48063890</th>\n",
              "      <td>1.210968</td>\n",
              "      <td>1.983414</td>\n",
              "      <td>-0.938339</td>\n",
              "      <td>-3.278305</td>\n",
              "      <td>-201.828049</td>\n",
              "      <td>5.667168</td>\n",
              "      <td>6.883764</td>\n",
              "      <td>0.243560</td>\n",
              "      <td>0.688672</td>\n",
              "      <td>9.765896</td>\n",
              "      <td>1.966456</td>\n",
              "    </tr>\n",
              "    <tr>\n",
              "      <th>6662551</th>\n",
              "      <td>-0.033142</td>\n",
              "      <td>1.237122</td>\n",
              "      <td>0.060791</td>\n",
              "      <td>0.109146</td>\n",
              "      <td>-196.228241</td>\n",
              "      <td>6.988772</td>\n",
              "      <td>4.271856</td>\n",
              "      <td>-1.019691</td>\n",
              "      <td>-0.693035</td>\n",
              "      <td>14.185906</td>\n",
              "      <td>15.605581</td>\n",
              "    </tr>\n",
              "    <tr>\n",
              "      <th>89492993</th>\n",
              "      <td>0.239120</td>\n",
              "      <td>3.052887</td>\n",
              "      <td>-0.522217</td>\n",
              "      <td>-22.034760</td>\n",
              "      <td>-268.287598</td>\n",
              "      <td>5.403506</td>\n",
              "      <td>8.019310</td>\n",
              "      <td>0.975898</td>\n",
              "      <td>1.015718</td>\n",
              "      <td>6.350332</td>\n",
              "      <td>4.286400</td>\n",
              "    </tr>\n",
              "  </tbody>\n",
              "</table>\n",
              "</div>"
            ],
            "text/plain": [
              "          dll_electron  dll_kaon  ...  particle_one_x  particle_two_x\n",
              "48609366     -0.212708  2.314453  ...        4.806355       11.518691\n",
              "85800802     -0.975586  7.093811  ...        8.347982       12.483961\n",
              "48063890      1.210968  1.983414  ...        9.765896        1.966456\n",
              "6662551      -0.033142  1.237122  ...       14.185906       15.605581\n",
              "89492993      0.239120  3.052887  ...        6.350332        4.286400\n",
              "\n",
              "[5 rows x 11 columns]"
            ]
          },
          "metadata": {
            "tags": []
          },
          "execution_count": 40
        }
      ]
    },
    {
      "cell_type": "code",
      "metadata": {
        "id": "-bTQdLkjls8h",
        "colab_type": "code",
        "colab": {}
      },
      "source": [
        "X_COLUMNS = [\"particle_one_energy\",\n",
        "             \"particle_two_energy\",\n",
        "             \"particle_one_eta\",\n",
        "             \"particle_two_eta\",\n",
        "             \"particle_one_x\",\n",
        "             \"particle_two_x\"]\n",
        "Y_COLUMNS = [\"dll_electron\",\n",
        "             \"dll_kaon\",\n",
        "             \"dll_muon\",\n",
        "             \"dll_proton\",\n",
        "             \"dll_bt\"]\n",
        "assert Y_COLUMNS + X_COLUMNS == list(data.columns)"
      ],
      "execution_count": 0,
      "outputs": []
    },
    {
      "cell_type": "code",
      "metadata": {
        "id": "cVUsM2m1kmeP",
        "colab_type": "code",
        "outputId": "77340db3-3612-49ce-ec09-8144be213690",
        "colab": {
          "base_uri": "https://localhost:8080/",
          "height": 265
        }
      },
      "source": [
        "# If feel physically inclined, feel free to make a hundred of plots.\n",
        "# However, for purposes of this exercise, abstract tabular X, Y will suffice.\n",
        "# In order to achive this wonderful state, the data needs to be normalized.\n",
        "# Please use the sklearn.preprocessing.QuantileTransformer to transform each feature\n",
        "# into a Gaussian\n",
        "plt.hist(data.values[:, 0], bins=100);"
      ],
      "execution_count": 0,
      "outputs": [
        {
          "output_type": "display_data",
          "data": {
            "image/png": "[encoded data removed]",
            "text/plain": [
              "<Figure size 432x288 with 1 Axes>"
            ]
          },
          "metadata": {
            "tags": []
          }
        }
      ]
    },
    {
      "cell_type": "code",
      "metadata": {
        "id": "YWwway-lrU3o",
        "colab_type": "code",
        "colab": {}
      },
      "source": [
        "import sklearn\n",
        "transformer = sklearn.preprocessing.QuantileTransformer(output_distribution='normal')\n",
        "data_transformed = np.array(transformer.fit_transform(data), dtype='float')"
      ],
      "execution_count": 0,
      "outputs": []
    },
    {
      "cell_type": "markdown",
      "metadata": {
        "id": "QfUUURgDmF0r",
        "colab_type": "text"
      },
      "source": [
        "After the transformation, features should look like this:\n",
        "![feature after normalization](https://github.com/yandexdataschool/mlhep2019/raw/master/notebooks/day-6/gauss.png)"
      ]
    },
    {
      "cell_type": "code",
      "metadata": {
        "id": "rr9tM2F75uBZ",
        "colab_type": "code",
        "outputId": "ccf8cf50-82f5-4593-e4e8-e1c549050849",
        "colab": {
          "base_uri": "https://localhost:8080/",
          "height": 265
        }
      },
      "source": [
        "plt.hist(data_transformed[:, 0], bins=100);"
      ],
      "execution_count": 0,
      "outputs": [
        {
          "output_type": "display_data",
          "data": {
            "image/png": "[encoded data removed]",
            "text/plain": [
              "<Figure size 432x288 with 1 Axes>"
            ]
          },
          "metadata": {
            "tags": []
          }
        }
      ]
    },
    {
      "cell_type": "code",
      "metadata": {
        "id": "mqQcaQnSmk-z",
        "colab_type": "code",
        "colab": {}
      },
      "source": [
        "train, test = train_test_split(data_transformed, test_size=0.1)"
      ],
      "execution_count": 0,
      "outputs": []
    },
    {
      "cell_type": "code",
      "metadata": {
        "id": "v6xVCI7FxdOw",
        "colab_type": "code",
        "colab": {}
      },
      "source": [
        "LATENT_DIM = 64"
      ],
      "execution_count": 0,
      "outputs": []
    },
    {
      "cell_type": "markdown",
      "metadata": {
        "id": "P-e5n2z1x4L-",
        "colab_type": "text"
      },
      "source": [
        "Please create a fully-connected generator. Remember, we need a conditional GAN, so the generator input should have dimensions for X and noise; output - for Y.\n",
        "\n",
        "You can start with a small one, make sure the code works, then add more layers."
      ]
    },
    {
      "cell_type": "code",
      "metadata": {
        "id": "vda8pfdGxdO1",
        "colab_type": "code",
        "colab": {}
      },
      "source": [
        "# Note that WGAN does not work well with ELU (as per my experience and the original paper)\n",
        "gen = nn.Sequential(nn.Linear(LATENT_DIM + len(X_COLUMNS), 256), nn.LogSigmoid(),\n",
        "                    nn.Linear(256, 256), nn.LogSigmoid(),\n",
        "                    nn.Linear(256, len(Y_COLUMNS))).cuda()\n",
        "gen_opt = torch.optim.RMSprop(gen.parameters(), lr=1e-2)\n",
        "gen_scheduler = torch.optim.lr_scheduler.MultiStepLR(gen_opt, milestones=[10000, 30000], gamma=0.1)"
      ],
      "execution_count": 0,
      "outputs": []
    },
    {
      "cell_type": "code",
      "metadata": {
        "id": "2Tfv0ER_afB0",
        "colab_type": "code",
        "colab": {}
      },
      "source": [
        "assert gen[0].in_features == LATENT_DIM + len(X_COLUMNS)\n",
        "assert gen[-1].out_features == len(Y_COLUMNS)"
      ],
      "execution_count": 0,
      "outputs": []
    },
    {
      "cell_type": "markdown",
      "metadata": {
        "id": "SYcczuo6ykmw",
        "colab_type": "text"
      },
      "source": [
        "Please create a fully-connected discriminator"
      ]
    },
    {
      "cell_type": "code",
      "metadata": {
        "id": "iLHqKYIHamlU",
        "colab_type": "code",
        "colab": {}
      },
      "source": [
        "disc = nn.Sequential(nn.Linear(data.shape[1], 256), nn.LogSigmoid(),\n",
        "                     nn.Linear(256, 256), nn.LogSigmoid(),\n",
        "                     nn.Linear(256, 1)).cuda()\n",
        "assert disc[0].in_features == data.shape[1]\n",
        "assert disc[-1].out_features == 1\n",
        "\n",
        "disc_opt = torch.optim.RMSprop(disc.parameters(), lr=1e-2)\n",
        "disc_scheduler = torch.optim.lr_scheduler.MultiStepLR(disc_opt, milestones=[10000, 30000], gamma=0.1)"
      ],
      "execution_count": 0,
      "outputs": []
    },
    {
      "cell_type": "code",
      "metadata": {
        "id": "ruAT31w0pDs2",
        "colab_type": "code",
        "colab": {}
      },
      "source": [
        "TRAIN_BATCH_SIZE = 1024\n",
        "def sample_real_data(batch_size):\n",
        "  \"\"\"\n",
        "  Inifintly repeats and shuffles the train dataset, outputs the\n",
        "  result in delicious batches.\n",
        "  \"\"\"\n",
        "  while True:\n",
        "    dataloader = torch.utils.data.DataLoader(train, batch_size=batch_size,\n",
        "                                             shuffle=True, drop_last=True)\n",
        "    for batch in dataloader:\n",
        "      yield batch\n",
        "infinite_data = sample_real_data(TRAIN_BATCH_SIZE)"
      ],
      "execution_count": 0,
      "outputs": []
    },
    {
      "cell_type": "markdown",
      "metadata": {
        "id": "ip_0V4OwzAd-",
        "colab_type": "text"
      },
      "source": [
        "Write a function that would sample the generator for given X. The function should return a GPU-based tensor.\n",
        "\n",
        "`concatenate(generator(concatenate(noise, x)), x)`"
      ]
    },
    {
      "cell_type": "code",
      "metadata": {
        "id": "QvHAVVXR6p2F",
        "colab_type": "code",
        "colab": {}
      },
      "source": [
        "def sample_gen_data(x):\n",
        "  x = x.float()\n",
        "  noise = torch.rand(x.shape[0], LATENT_DIM, device=\"cuda\")\n",
        "  return torch.cat((gen(torch.cat((noise, x), dim=1)), x), dim=1)"
      ],
      "execution_count": 0,
      "outputs": []
    },
    {
      "cell_type": "code",
      "metadata": {
        "id": "M6gGaLZhzcm1",
        "colab_type": "code",
        "colab": {}
      },
      "source": [
        "test_sample = sample_gen_data(torch.from_numpy(train[:3, len(Y_COLUMNS):]).cuda())\n",
        "assert test_sample.shape == (3, data.shape[1])"
      ],
      "execution_count": 0,
      "outputs": []
    },
    {
      "cell_type": "code",
      "metadata": {
        "id": "aTRGYg8nad97",
        "colab_type": "code",
        "colab": {}
      },
      "source": [
        "# https://github.com/caogang/wgan-gp/blob/master/gan_mnist.py\n",
        "def calc_gradient_penalty_classic(critic:torch.nn.Module,\n",
        "                                  real_data:torch.Tensor,\n",
        "                                  fake_data:torch.Tensor):\n",
        "  \"\"\"\n",
        "  Computes Gradient Penalty in random interpolates, in its classic form:\n",
        "  (|∇(D(x)|^2 - 1)^2, x is interpolated between a real and a generated sample\n",
        "  Args:\n",
        "    critic: a torch model whose gradient needs to be penalised\n",
        "    real_data[batch_size, n_features]: a sample of real data\n",
        "    fakse_data[batch_size, n_features]: a sample of fake data\n",
        "  Returns:\n",
        "    torch.Tensor, scalar, gradient penalty evalute\n",
        "  \"\"\"\n",
        "  assert real_data.shape == fake_data.shape\n",
        "  alpha = torch.rand(real_data.shape[0], 1)\n",
        "  alpha = alpha.expand(real_data.size()).cuda()\n",
        "\n",
        "  interpolates = (alpha * real_data + ((1 - alpha) * fake_data)).cuda()\n",
        "  interpolates = torch.autograd.Variable(interpolates, requires_grad=True)\n",
        "\n",
        "  disc_interpolates = critic(interpolates)\n",
        "\n",
        "  gradients = torch.autograd.grad(\n",
        "      outputs=disc_interpolates, inputs=interpolates,\n",
        "      grad_outputs=torch.ones(disc_interpolates.size(), device=\"cuda\"),\n",
        "      create_graph=True, retain_graph=True, only_inputs=True)[0]\n",
        "\n",
        "  gradient_penalty = ((gradients.norm(2, dim=1) - 1) ** 2).mean()\n",
        "  return gradient_penalty"
      ],
      "execution_count": 0,
      "outputs": []
    },
    {
      "cell_type": "code",
      "metadata": {
        "id": "-jEB_ViCxdO6",
        "colab_type": "code",
        "colab": {}
      },
      "source": [
        "LAMBDA = 1.\n",
        "def train_disc(gan_type=\"WGAN-GP\"):\n",
        "    \"\"\"\n",
        "    Trains the discriminator for one step. Please note\n",
        "    this is not a pure function, it captutes the majority of variables\n",
        "    from the context.\n",
        "    \"\"\"\n",
        "    real_data = next(infinite_data).to(\"cuda\").float()\n",
        "    x_gen = next(infinite_data)[:, len(Y_COLUMNS):].to(\"cuda\").float()\n",
        "    gen_data = sample_gen_data(x_gen)\n",
        "    \n",
        "    if gan_type == \"JS\":\n",
        "      disc_loss = -logsigmoid(disc(\n",
        "              real_data\n",
        "          )).mean() - \\\n",
        "          logsigmoid(-disc(\n",
        "              gen_data\n",
        "          )).mean()\n",
        "    elif gan_type == \"WGAN-GP\":\n",
        "      disc_loss = -logsigmoid(disc(\n",
        "              real_data\n",
        "          )).mean() - \\\n",
        "          logsigmoid(-disc(\n",
        "              gen_data\n",
        "          )).mean() + \\\n",
        "                  calc_gradient_penalty_classic(disc, real_data, gen_data)*LAMBDA\n",
        "    else:\n",
        "      raise ValueError(\"Unknown GAN type. Valid ones are: JS, WGAN-GP\")\n",
        "    \n",
        "    disc_opt.zero_grad()\n",
        "    disc_loss.backward()\n",
        "    disc_opt.step()\n",
        "    return disc_loss"
      ],
      "execution_count": 0,
      "outputs": []
    },
    {
      "cell_type": "code",
      "metadata": {
        "id": "jWBI4zL-xdO-",
        "colab_type": "code",
        "colab": {}
      },
      "source": [
        "def train_gen(gan_type=\"WGAN-GP\"):\n",
        "    \"\"\"Trains generator for one step\"\"\"\n",
        "    real_data_x = next(infinite_data)[:, len(Y_COLUMNS):].to(\"cuda\")\n",
        "    \n",
        "    gen_data = sample_gen_data(real_data_x)\n",
        "    \n",
        "    if gan_type == \"JS\":\n",
        "      gen_loss = -logsigmoid(disc(\n",
        "              gen_data\n",
        "          )).mean()\n",
        "    elif gan_type == \"WGAN-GP\":\n",
        "      gen_loss = gen_loss = -logsigmoid(disc(\n",
        "              gen_data\n",
        "          )).mean()\n",
        "    \n",
        "    gen_opt.zero_grad()\n",
        "    gen_loss.backward()\n",
        "    gen_opt.step()\n",
        "    return gen_loss"
      ],
      "execution_count": 0,
      "outputs": []
    },
    {
      "cell_type": "code",
      "metadata": {
        "id": "pFE5P0tN0V00",
        "colab_type": "code",
        "colab": {}
      },
      "source": [
        "import os\n",
        "from torch.utils.tensorboard import SummaryWriter\n",
        "TENSORBOARD_LOGDIR = \"./logs\"\n",
        "MODEL_NAME = \"DIRCv16\"\n",
        "summary_writer = SummaryWriter(log_dir=os.path.join(TENSORBOARD_LOGDIR, MODEL_NAME))"
      ],
      "execution_count": 0,
      "outputs": []
    },
    {
      "cell_type": "code",
      "metadata": {
        "id": "uOk5MhVRxdPD",
        "colab_type": "code",
        "outputId": "3b5e8e89-2972-4bb9-a058-541b03ab6e33",
        "colab": {
          "base_uri": "https://localhost:8080/",
          "height": 453
        }
      },
      "source": [
        "from torch.nn.functional import logsigmoid\n",
        "DISCRIMINATOR_ITERATIONS_PER_GENEREATOR = 5\n",
        "VALIDATION_INTERVAL = 256\n",
        "HIST_BINS=100\n",
        "DATA_HIST_RANGE=[-5, 5]\n",
        "\n",
        "data_linspace_np = np.linspace(0, 10, num=256, dtype=np.float32)\n",
        "data_linspace_torch = torch.from_numpy(data_linspace_np)[:, None].cuda()\n",
        "validation_data = torch.from_numpy(test).cuda()\n",
        "validation_data_np = test\n",
        "validation_x = validation_data[:, len(Y_COLUMNS):]\n",
        "\n",
        "for i in range(100000):\n",
        "    gen_scheduler.step()\n",
        "    disc_scheduler.step()\n",
        "    for _ in range(DISCRIMINATOR_ITERATIONS_PER_GENEREATOR):\n",
        "        disc_loss_this_iter = train_disc()\n",
        "    \n",
        "    gen_loss_this_iter = train_gen()\n",
        "    summary_writer.add_scalar(\"discriminator loss\", disc_loss_this_iter,\n",
        "                              global_step=i)\n",
        "    summary_writer.add_scalar(\"generator loss\", gen_loss_this_iter,\n",
        "                              global_step=i)\n",
        "    if i % VALIDATION_INTERVAL == 0:\n",
        "        clear_output(True)        \n",
        "        validation_generated = sample_gen_data(validation_x)\n",
        "        validation_generated_np = validation_generated.data.cpu().numpy()\n",
        "        \n",
        "        fig, axes_list = plt.subplots(ncols=5, figsize=[6*len(Y_COLUMNS), 6])\n",
        "        for index, ax in enumerate(axes_list):\n",
        "          ax.hist(validation_generated_np[:, index], range=DATA_HIST_RANGE,\n",
        "                  alpha=0.5, density=True, label='Generated', bins=HIST_BINS)\n",
        "          ax.hist(validation_data_np[:, index], range=DATA_HIST_RANGE,\n",
        "                  alpha=0.5, density=True, label='Real', bins=HIST_BINS)\n",
        "          ax.set_xlabel(data.columns[index])\n",
        "          ks_result = ks_2samp(validation_generated_np[:, index],\n",
        "                                    validation_data_np[:, index])\n",
        "          ax.set_title(\"KS stat = {:.4f}; p-value = {:.4E}\".format(*tuple(ks_result)))\n",
        "        fig.suptitle(\"Iteration {}\".format(i))\n",
        "        plt.show()"
      ],
      "execution_count": 0,
      "outputs": [
        {
          "output_type": "display_data",
          "data": {
            "image/png": "[encoded data removed]",
            "text/plain": [
              "<Figure size 2160x432 with 5 Axes>"
            ]
          },
          "metadata": {
            "tags": []
          }
        }
      ]
    },
    {
      "cell_type": "markdown",
      "metadata": {
        "id": "KtzsTRJTARvx",
        "colab_type": "text"
      },
      "source": [
        "After a little bit of training, the plots should look like this: ![semitrained GAN](https://github.com/yandexdataschool/mlhep2019/raw/master/notebooks/day-6/semi-trained.png)\n",
        "\n",
        "If you want to push precision to the limit, you want to increase batch size and reduce learning rate over time. You'll also need to monitor the validation losses to avoid overfitting.\n",
        "\n",
        "P. S.\n",
        "\n",
        "It is tempting to ask you to get KS p-value to, say, 0.5. But kind of pointless. The ability of a KS test to distingush two samples depends on the test size. And I have 19822705 examples (they are quite cheap to generate). By the time a model reaches that quality, the error is dominated by the systematic uncertainty caused by the fact that we only use so many parametes to describe an actually very complex relationship.\n",
        "\n",
        "P. P. S.\n",
        "\n",
        "As you know from Artem's lecture, this plot does not comprehensively describe the quality of the GAN. Please feel free to add better quality measures."
      ]
    }
  ]
}