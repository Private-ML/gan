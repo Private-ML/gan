{
 "cells": [
  {
   "cell_type": "markdown",
   "metadata": {},
   "source": [
    "# Generator attack sustainability"
   ]
  },
  {
   "cell_type": "markdown",
   "metadata": {},
   "source": [
    "Suppose a leakange in our train data occured. Given a generator (or generated samples), an adversary is able to restore the train set. So it is significant to make our generator sustainable to those attacks. "
   ]
  },
  {
   "cell_type": "code",
   "execution_count": 1,
   "metadata": {},
   "outputs": [],
   "source": [
    "import matplotlib.pyplot as plt\n",
    "import matplotlib\n",
    "import numpy as np\n",
    "import pandas as pd"
   ]
  },
  {
   "cell_type": "code",
   "execution_count": 2,
   "metadata": {},
   "outputs": [],
   "source": [
    "import os\n",
    "\n",
    "GDRIVE_PATH = '/data/apsidorenko'\n",
    "THIS_EXERCISE_PATH = os.path.join(GDRIVE_PATH, \"GAN_exercises\")\n",
    "MODELS_HOME = os.path.join(THIS_EXERCISE_PATH, \"mnist guns\")"
   ]
  },
  {
   "cell_type": "code",
   "execution_count": 3,
   "metadata": {},
   "outputs": [],
   "source": [
    "os.makedirs(THIS_EXERCISE_PATH, exist_ok=True)\n",
    "os.makedirs(MODELS_HOME, exist_ok=True)"
   ]
  },
  {
   "cell_type": "code",
   "execution_count": 4,
   "metadata": {},
   "outputs": [],
   "source": [
    "leakage_share = 0.2"
   ]
  },
  {
   "cell_type": "code",
   "execution_count": 5,
   "metadata": {},
   "outputs": [
    {
     "data": {
      "text/html": [
       "<div>\n",
       "<style scoped>\n",
       "    .dataframe tbody tr th:only-of-type {\n",
       "        vertical-align: middle;\n",
       "    }\n",
       "\n",
       "    .dataframe tbody tr th {\n",
       "        vertical-align: top;\n",
       "    }\n",
       "\n",
       "    .dataframe thead th {\n",
       "        text-align: right;\n",
       "    }\n",
       "</style>\n",
       "<table border=\"1\" class=\"dataframe\">\n",
       "  <thead>\n",
       "    <tr style=\"text-align: right;\">\n",
       "      <th></th>\n",
       "      <th>column_0</th>\n",
       "      <th>column_1</th>\n",
       "      <th>column_2</th>\n",
       "      <th>column_3</th>\n",
       "      <th>column_4</th>\n",
       "      <th>column_5</th>\n",
       "      <th>column_6</th>\n",
       "      <th>column_7</th>\n",
       "      <th>column_8</th>\n",
       "      <th>column_9</th>\n",
       "      <th>...</th>\n",
       "      <th>column_774</th>\n",
       "      <th>column_775</th>\n",
       "      <th>column_776</th>\n",
       "      <th>column_777</th>\n",
       "      <th>column_778</th>\n",
       "      <th>column_779</th>\n",
       "      <th>column_780</th>\n",
       "      <th>column_781</th>\n",
       "      <th>column_782</th>\n",
       "      <th>column_783</th>\n",
       "    </tr>\n",
       "  </thead>\n",
       "  <tbody>\n",
       "    <tr>\n",
       "      <td>0</td>\n",
       "      <td>0.0</td>\n",
       "      <td>0.0</td>\n",
       "      <td>0.0</td>\n",
       "      <td>0.0</td>\n",
       "      <td>0.0</td>\n",
       "      <td>0.0</td>\n",
       "      <td>0.0</td>\n",
       "      <td>0.0</td>\n",
       "      <td>0.0</td>\n",
       "      <td>0.0</td>\n",
       "      <td>...</td>\n",
       "      <td>0.0</td>\n",
       "      <td>0.0</td>\n",
       "      <td>0.0</td>\n",
       "      <td>0.0</td>\n",
       "      <td>0.0</td>\n",
       "      <td>0.0</td>\n",
       "      <td>0.0</td>\n",
       "      <td>0.0</td>\n",
       "      <td>0.0</td>\n",
       "      <td>0.0</td>\n",
       "    </tr>\n",
       "    <tr>\n",
       "      <td>1</td>\n",
       "      <td>0.0</td>\n",
       "      <td>0.0</td>\n",
       "      <td>0.0</td>\n",
       "      <td>0.0</td>\n",
       "      <td>0.0</td>\n",
       "      <td>0.0</td>\n",
       "      <td>0.0</td>\n",
       "      <td>0.0</td>\n",
       "      <td>0.0</td>\n",
       "      <td>0.0</td>\n",
       "      <td>...</td>\n",
       "      <td>0.0</td>\n",
       "      <td>0.0</td>\n",
       "      <td>0.0</td>\n",
       "      <td>0.0</td>\n",
       "      <td>0.0</td>\n",
       "      <td>0.0</td>\n",
       "      <td>0.0</td>\n",
       "      <td>0.0</td>\n",
       "      <td>0.0</td>\n",
       "      <td>0.0</td>\n",
       "    </tr>\n",
       "    <tr>\n",
       "      <td>2</td>\n",
       "      <td>0.0</td>\n",
       "      <td>0.0</td>\n",
       "      <td>0.0</td>\n",
       "      <td>0.0</td>\n",
       "      <td>0.0</td>\n",
       "      <td>0.0</td>\n",
       "      <td>0.0</td>\n",
       "      <td>0.0</td>\n",
       "      <td>0.0</td>\n",
       "      <td>0.0</td>\n",
       "      <td>...</td>\n",
       "      <td>0.0</td>\n",
       "      <td>0.0</td>\n",
       "      <td>0.0</td>\n",
       "      <td>0.0</td>\n",
       "      <td>0.0</td>\n",
       "      <td>0.0</td>\n",
       "      <td>0.0</td>\n",
       "      <td>0.0</td>\n",
       "      <td>0.0</td>\n",
       "      <td>0.0</td>\n",
       "    </tr>\n",
       "    <tr>\n",
       "      <td>3</td>\n",
       "      <td>0.0</td>\n",
       "      <td>0.0</td>\n",
       "      <td>0.0</td>\n",
       "      <td>0.0</td>\n",
       "      <td>0.0</td>\n",
       "      <td>0.0</td>\n",
       "      <td>0.0</td>\n",
       "      <td>0.0</td>\n",
       "      <td>0.0</td>\n",
       "      <td>0.0</td>\n",
       "      <td>...</td>\n",
       "      <td>0.0</td>\n",
       "      <td>0.0</td>\n",
       "      <td>0.0</td>\n",
       "      <td>0.0</td>\n",
       "      <td>0.0</td>\n",
       "      <td>0.0</td>\n",
       "      <td>0.0</td>\n",
       "      <td>0.0</td>\n",
       "      <td>0.0</td>\n",
       "      <td>0.0</td>\n",
       "    </tr>\n",
       "    <tr>\n",
       "      <td>4</td>\n",
       "      <td>0.0</td>\n",
       "      <td>0.0</td>\n",
       "      <td>0.0</td>\n",
       "      <td>0.0</td>\n",
       "      <td>0.0</td>\n",
       "      <td>0.0</td>\n",
       "      <td>0.0</td>\n",
       "      <td>0.0</td>\n",
       "      <td>0.0</td>\n",
       "      <td>0.0</td>\n",
       "      <td>...</td>\n",
       "      <td>0.0</td>\n",
       "      <td>0.0</td>\n",
       "      <td>0.0</td>\n",
       "      <td>0.0</td>\n",
       "      <td>0.0</td>\n",
       "      <td>0.0</td>\n",
       "      <td>0.0</td>\n",
       "      <td>0.0</td>\n",
       "      <td>0.0</td>\n",
       "      <td>0.0</td>\n",
       "    </tr>\n",
       "  </tbody>\n",
       "</table>\n",
       "<p>5 rows × 784 columns</p>\n",
       "</div>"
      ],
      "text/plain": [
       "   column_0  column_1  column_2  column_3  column_4  column_5  column_6  \\\n",
       "0       0.0       0.0       0.0       0.0       0.0       0.0       0.0   \n",
       "1       0.0       0.0       0.0       0.0       0.0       0.0       0.0   \n",
       "2       0.0       0.0       0.0       0.0       0.0       0.0       0.0   \n",
       "3       0.0       0.0       0.0       0.0       0.0       0.0       0.0   \n",
       "4       0.0       0.0       0.0       0.0       0.0       0.0       0.0   \n",
       "\n",
       "   column_7  column_8  column_9  ...  column_774  column_775  column_776  \\\n",
       "0       0.0       0.0       0.0  ...         0.0         0.0         0.0   \n",
       "1       0.0       0.0       0.0  ...         0.0         0.0         0.0   \n",
       "2       0.0       0.0       0.0  ...         0.0         0.0         0.0   \n",
       "3       0.0       0.0       0.0  ...         0.0         0.0         0.0   \n",
       "4       0.0       0.0       0.0  ...         0.0         0.0         0.0   \n",
       "\n",
       "   column_777  column_778  column_779  column_780  column_781  column_782  \\\n",
       "0         0.0         0.0         0.0         0.0         0.0         0.0   \n",
       "1         0.0         0.0         0.0         0.0         0.0         0.0   \n",
       "2         0.0         0.0         0.0         0.0         0.0         0.0   \n",
       "3         0.0         0.0         0.0         0.0         0.0         0.0   \n",
       "4         0.0         0.0         0.0         0.0         0.0         0.0   \n",
       "\n",
       "   column_783  \n",
       "0         0.0  \n",
       "1         0.0  \n",
       "2         0.0  \n",
       "3         0.0  \n",
       "4         0.0  \n",
       "\n",
       "[5 rows x 784 columns]"
      ]
     },
     "execution_count": 5,
     "metadata": {},
     "output_type": "execute_result"
    }
   ],
   "source": [
    "df = pd.read_csv('https://query.data.world/s/nap7jvxtupud25z5ljvtbzzjjsqqay')\n",
    "df.head()"
   ]
  },
  {
   "cell_type": "code",
   "execution_count": 6,
   "metadata": {},
   "outputs": [
    {
     "data": {
      "text/html": [
       "<div>\n",
       "<style scoped>\n",
       "    .dataframe tbody tr th:only-of-type {\n",
       "        vertical-align: middle;\n",
       "    }\n",
       "\n",
       "    .dataframe tbody tr th {\n",
       "        vertical-align: top;\n",
       "    }\n",
       "\n",
       "    .dataframe thead th {\n",
       "        text-align: right;\n",
       "    }\n",
       "</style>\n",
       "<table border=\"1\" class=\"dataframe\">\n",
       "  <thead>\n",
       "    <tr style=\"text-align: right;\">\n",
       "      <th></th>\n",
       "      <th>column_0</th>\n",
       "    </tr>\n",
       "  </thead>\n",
       "  <tbody>\n",
       "    <tr>\n",
       "      <td>0</td>\n",
       "      <td>0.0</td>\n",
       "    </tr>\n",
       "    <tr>\n",
       "      <td>1</td>\n",
       "      <td>0.0</td>\n",
       "    </tr>\n",
       "    <tr>\n",
       "      <td>2</td>\n",
       "      <td>0.0</td>\n",
       "    </tr>\n",
       "    <tr>\n",
       "      <td>3</td>\n",
       "      <td>0.0</td>\n",
       "    </tr>\n",
       "    <tr>\n",
       "      <td>4</td>\n",
       "      <td>0.0</td>\n",
       "    </tr>\n",
       "  </tbody>\n",
       "</table>\n",
       "</div>"
      ],
      "text/plain": [
       "   column_0\n",
       "0       0.0\n",
       "1       0.0\n",
       "2       0.0\n",
       "3       0.0\n",
       "4       0.0"
      ]
     },
     "execution_count": 6,
     "metadata": {},
     "output_type": "execute_result"
    }
   ],
   "source": [
    "target = pd.read_csv('https://query.data.world/s/sn3dximsq5sw3a6wtqoc3okulevugz')\n",
    "target.head()"
   ]
  },
  {
   "cell_type": "code",
   "execution_count": 7,
   "metadata": {},
   "outputs": [],
   "source": [
    "from sklearn.model_selection import train_test_split\n",
    "train, test, tar_train, tar_test = train_test_split(df, target, test_size=0.2, random_state=12345)"
   ]
  },
  {
   "cell_type": "code",
   "execution_count": 8,
   "metadata": {},
   "outputs": [],
   "source": [
    "train = np.array(train, dtype='float')\n",
    "test = np.array(test, dtype='float')\n",
    "tar_train = np.array(tar_train, dtype='float')\n",
    "tar_test = np.array(tar_test, dtype='float')"
   ]
  },
  {
   "cell_type": "code",
   "execution_count": 9,
   "metadata": {},
   "outputs": [],
   "source": [
    "train= train.reshape((-1, 1, 28, 28)) / 255.\n",
    "test= test.reshape((-1, 1, 28, 28)) / 255."
   ]
  },
  {
   "cell_type": "code",
   "execution_count": 10,
   "metadata": {},
   "outputs": [
    {
     "data": {
      "image/png": "[encoded data removed]",
      "text/plain": [
       "<Figure size 576x576 with 25 Axes>"
      ]
     },
     "metadata": {
      "needs_background": "light"
     },
     "output_type": "display_data"
    }
   ],
   "source": [
    "def plot_images(images: np.ndarray,\n",
    "                nrows: int=5, ncols: int=5,\n",
    "                shuffle: bool=True,\n",
    "                title: str=\"\",\n",
    "                figure: matplotlib.figure.Figure=None) -> matplotlib.figure.Figure:\n",
    "  \"\"\"\n",
    "  Plots a subset of images.\n",
    "  \n",
    "  Args:\n",
    "    images[n_images, n_channels, width, height]: a dataset with images to plot\n",
    "    nrows: number of images in a plotted row\n",
    "    ncols: numer of images in a plotted colunm\n",
    "    shuffle: if True draw a random subset of images, if False -- the first ones\n",
    "    figure: if not None, it's used for plotting, if None, a new one is created\n",
    "  \n",
    "  Returns:\n",
    "    a figure containing the plotted images\n",
    "  \"\"\"\n",
    "  if shuffle:\n",
    "    images_to_plot = images[np.random.permutation(len(images))[:nrows*ncols]]\n",
    "  else:\n",
    "    images_to_plot = images[:nrows * ncols]\n",
    "  h, w = images_to_plot.shape[2:]\n",
    "  if figure is None:\n",
    "    figure = plt.figure(figsize=(8,8))\n",
    "  \n",
    "  axes = figure.subplots(nrows=nrows, ncols=ncols)\n",
    "  for row_idx, ax_row in enumerate(axes):\n",
    "    for col_idx, ax in enumerate(ax_row):\n",
    "      ax.imshow(images_to_plot[row_idx + ncols*col_idx, 0],\n",
    "                interpolation=\"none\")\n",
    "      ax.set_axis_off()\n",
    "\n",
    "  figure.suptitle(title, fontsize=18)\n",
    "  return figure\n",
    "\n",
    "plot_images(train, title=\"Some digits\");"
   ]
  },
  {
   "cell_type": "markdown",
   "metadata": {},
   "source": [
    "# Building GAN"
   ]
  },
  {
   "cell_type": "code",
   "execution_count": 11,
   "metadata": {},
   "outputs": [],
   "source": [
    "import torch\n",
    "from torch import nn\n",
    "from torch.nn.functional import logsigmoid\n",
    "\n",
    "class Reshape(torch.nn.Module):\n",
    "  \"\"\"\n",
    "  Reshapes a tensor starting from the 1st dimension (not 0th),\n",
    "  i. e. without influencing the batch dimension.\n",
    "  \"\"\"\n",
    "  def __init__(self, *shape):\n",
    "    super(Reshape, self).__init__()\n",
    "    self.shape = shape\n",
    "\n",
    "  def forward(self, x):\n",
    "    return x.view(x.shape[0], *self.shape)\n",
    "  \n",
    "class Flatten(nn.Module):\n",
    "    def forward(self, input):\n",
    "        return input.view(input.shape[0], -1)"
   ]
  },
  {
   "cell_type": "code",
   "execution_count": 12,
   "metadata": {},
   "outputs": [],
   "source": [
    "GENERATOR_FILE = os.path.join(MODELS_HOME, 'generator_sustain.pt')\n",
    "GENERATOR_FILE_LOAD = os.path.join(MODELS_HOME, 'generator_other.pt')\n",
    "DISCRIMINATOR_FILE = os.path.join(MODELS_HOME, 'discriminator_sustain.pt')"
   ]
  },
  {
   "cell_type": "code",
   "execution_count": null,
   "metadata": {},
   "outputs": [],
   "source": []
  },
  {
   "cell_type": "code",
   "execution_count": 13,
   "metadata": {},
   "outputs": [],
   "source": [
    "CODE_SIZE = 256\n",
    "DROPOUT_RATE = 0.1\n",
    "\n",
    "try:\n",
    "  generator = torch.load(GENERATOR_FILE_LOAD)\n",
    "  #discriminator = torch.load(DISCRIMINATOR_FILE)\n",
    "except FileNotFoundError:\n",
    " print('FUUUUUU!')\n"
   ]
  },
  {
   "cell_type": "code",
   "execution_count": 14,
   "metadata": {},
   "outputs": [],
   "source": [
    "def sample_fake(batch_size):\n",
    "  noise = torch.randn(batch_size, CODE_SIZE, device=\"cuda\")\n",
    "  return generator(noise)"
   ]
  },
  {
   "cell_type": "code",
   "execution_count": 15,
   "metadata": {},
   "outputs": [],
   "source": [
    "# A small check that the generator output has the right size\n",
    "test_generated_data = sample_fake(1)\n",
    "assert tuple(test_generated_data.shape[1:]) == train.shape[1:]"
   ]
  },
  {
   "cell_type": "code",
   "execution_count": 16,
   "metadata": {},
   "outputs": [],
   "source": [
    "def sample_images(batch_size, train=train):\n",
    "  ids = np.random.choice(len(train), size=batch_size)\n",
    "  return torch.tensor(train[ids], device=\"cuda\").float()"
   ]
  },
  {
   "cell_type": "code",
   "execution_count": 17,
   "metadata": {},
   "outputs": [
    {
     "data": {
      "image/png": "[encoded data removed]",
      "text/plain": [
       "<Figure size 576x576 with 25 Axes>"
      ]
     },
     "metadata": {
      "needs_background": "light"
     },
     "output_type": "display_data"
    }
   ],
   "source": [
    "generator.eval()\n",
    "imgs = sample_fake(25).cpu().detach().numpy()\n",
    "plot_images(imgs.clip(0, 1));"
   ]
  },
  {
   "cell_type": "markdown",
   "metadata": {},
   "source": [
    "Now suppose we have no discriminator, but we have some part of the train set"
   ]
  },
  {
   "cell_type": "code",
   "execution_count": 18,
   "metadata": {},
   "outputs": [],
   "source": [
    "np.random.seed(1234567)"
   ]
  },
  {
   "cell_type": "code",
   "execution_count": 19,
   "metadata": {},
   "outputs": [],
   "source": [
    "n_leak = round(train.shape[0] * leakage_share)"
   ]
  },
  {
   "cell_type": "code",
   "execution_count": 20,
   "metadata": {},
   "outputs": [],
   "source": [
    "train_leak = train[np.random.permutation(train.shape[0])]\n",
    "train_check = train_leak[n_leak:]\n",
    "train_leak = train_leak[0:n_leak]"
   ]
  },
  {
   "cell_type": "code",
   "execution_count": 21,
   "metadata": {},
   "outputs": [
    {
     "data": {
      "text/plain": [
       "(11200, 1, 28, 28)"
      ]
     },
     "execution_count": 21,
     "metadata": {},
     "output_type": "execute_result"
    }
   ],
   "source": [
    "train_leak.shape"
   ]
  },
  {
   "cell_type": "code",
   "execution_count": 22,
   "metadata": {},
   "outputs": [],
   "source": [
    "def give_new_disc():\n",
    "    net = nn.Sequential(\n",
    "           #Reshape(1, 28,28),\n",
    "           torch.nn.Conv2d(1, 8, kernel_size=3, padding=1),\n",
    "           torch.nn.ELU(),\n",
    "           torch.nn.Dropout(p=DROPOUT_RATE),\n",
    "      \n",
    "            torch.nn.MaxPool2d(2), # 18x18\n",
    "      \n",
    "            torch.nn.Conv2d(8, 32, kernel_size=3, padding=1),\n",
    "            torch.nn.ELU(),\n",
    "            torch.nn.Dropout(p=DROPOUT_RATE),\n",
    "      \n",
    "            torch.nn.MaxPool2d(2), # 9x9\n",
    "      \n",
    "            torch.nn.Conv2d(32, 64, kernel_size=3), # 7x7\n",
    "            torch.nn.ELU(),\n",
    "            torch.nn.Dropout(p=DROPOUT_RATE),\n",
    "      \n",
    "            torch.nn.Conv2d(64, 256, kernel_size=3), # 5x5\n",
    "            torch.nn.ELU(),\n",
    "            torch.nn.Dropout(p=DROPOUT_RATE),\n",
    "      \n",
    "            torch.nn.Conv2d(256, 512, kernel_size=3), # 3x3\n",
    "            torch.nn.ELU(),\n",
    "            torch.nn.Dropout(p=DROPOUT_RATE),\n",
    "      \n",
    "             Reshape(512),\n",
    "             torch.nn.Linear(512, 1)\n",
    "    ).cuda()\n",
    "    return net"
   ]
  },
  {
   "cell_type": "code",
   "execution_count": null,
   "metadata": {},
   "outputs": [],
   "source": []
  },
  {
   "cell_type": "code",
   "execution_count": 23,
   "metadata": {},
   "outputs": [],
   "source": [
    "noise_power = 0.3\n",
    "gradient_penalty = 0.0001\n",
    "\n",
    "def generator_loss(fake):\n",
    "  return -logsigmoid(discriminator(\n",
    "              fake + torch.randn(*fake.shape, device=\"cuda\") * noise_power\n",
    "          )).mean()\n",
    "  \n",
    "  \n",
    "def discriminator_loss(real, fake):\n",
    "  return -logsigmoid(discriminator(\n",
    "              real + torch.randn(*real.shape, device=\"cuda\") * noise_power\n",
    "          )).mean() - \\\n",
    "          logsigmoid(-discriminator(\n",
    "              fake + torch.randn(*fake.shape, device=\"cuda\") * noise_power\n",
    "          )).mean()\n",
    "\n",
    "def discriminator_penalty(real, size=gradient_penalty):\n",
    "  scores = discriminator(real)\n",
    "  grad_params = torch.autograd.grad(scores.mean(), discriminator.parameters(),\n",
    "                                    create_graph=True)\n",
    "  penalty = sum((grad**2).sum() for grad in grad_params)\n",
    "  return penalty * size"
   ]
  },
  {
   "cell_type": "code",
   "execution_count": 24,
   "metadata": {},
   "outputs": [],
   "source": [
    "optimizer_generator = \\\n",
    "    torch.optim.RMSprop(generator.parameters(), lr=0.001)\n",
    "\n",
    "gen_scheduler = torch.optim.lr_scheduler.StepLR(optimizer_generator, step_size=10, gamma=0.999)"
   ]
  },
  {
   "cell_type": "code",
   "execution_count": 25,
   "metadata": {},
   "outputs": [],
   "source": [
    "VALIDATION_INTERVAL = 250\n",
    "SAVE_INTERVAL = 500\n",
    "DISCRIMINATOR_ITERATIONS_PER_GENEREATOR = 5\n",
    "BATCH_SIZE=128"
   ]
  },
  {
   "cell_type": "code",
   "execution_count": 26,
   "metadata": {},
   "outputs": [],
   "source": [
    "losses = np.zeros(VALIDATION_INTERVAL)"
   ]
  },
  {
   "cell_type": "code",
   "execution_count": 27,
   "metadata": {},
   "outputs": [],
   "source": [
    "test_leak = np.concatenate((train_check[np.random.permutation(train_check.shape[0])][0:1000], \n",
    "                            sample_fake(1000).cpu().detach().numpy()), axis=0)"
   ]
  },
  {
   "cell_type": "code",
   "execution_count": 28,
   "metadata": {},
   "outputs": [],
   "source": [
    "not_were_in_train = test[np.random.permutation(test.shape[0])][0:500]"
   ]
  },
  {
   "cell_type": "code",
   "execution_count": 29,
   "metadata": {},
   "outputs": [],
   "source": [
    "complicated_test = np.concatenate((train_check[np.random.permutation(train_check.shape[0])][1000:2000], \n",
    "                            sample_fake(500).cpu().detach().numpy(), not_were_in_train), axis=0)"
   ]
  },
  {
   "cell_type": "code",
   "execution_count": 30,
   "metadata": {},
   "outputs": [],
   "source": [
    "totals = np.zeros(6)\n",
    "totals_2 = np.zeros(6)"
   ]
  },
  {
   "cell_type": "code",
   "execution_count": 31,
   "metadata": {},
   "outputs": [],
   "source": [
    "def make_a_test(k):\n",
    "    ans = discriminator(torch.tensor(test_leak).float().cuda()).cpu().detach().numpy().reshape(-1)\n",
    "    labels = np.array([x < 1000 for x in range(2000)], dtype=int)\n",
    "    df = pd.DataFrame({'ans':ans, 'label':labels})\n",
    "    recall = df.sort_values(by='ans', ascending=False).iloc[0:1000]['label'].sum() / 1000\n",
    "    totals[k] = recall"
   ]
  },
  {
   "cell_type": "code",
   "execution_count": 32,
   "metadata": {},
   "outputs": [],
   "source": [
    "def make_another_test(k):\n",
    "    ans = discriminator(torch.tensor(complicated_test).float().cuda()).cpu().detach().numpy().reshape(-1)\n",
    "    labels = np.array([x < 1000 for x in range(2000)], dtype=int)\n",
    "    df = pd.DataFrame({'ans':ans, 'label':labels})\n",
    "    recall = df.sort_values(by='ans', ascending=False).iloc[0:1000]['label'].sum() / 1000\n",
    "    totals_2[k] = recall"
   ]
  },
  {
   "cell_type": "markdown",
   "metadata": {},
   "source": [
    "The main idea is we learn a GAN and then we throw the discriminator away and construct a new one. After that, we continue learning generator and discriminator together. One repeats this procedure several times. It should make our network sustainable to particular attacks."
   ]
  },
  {
   "cell_type": "code",
   "execution_count": 33,
   "metadata": {},
   "outputs": [
    {
     "data": {
      "image/png": "[encoded data removed]",
      "text/plain": [
       "<Figure size 576x576 with 25 Axes>"
      ]
     },
     "metadata": {
      "needs_background": "light"
     },
     "output_type": "display_data"
    }
   ],
   "source": [
    "from IPython.display import clear_output\n",
    "for k in range(6):\n",
    "    #start with hacking the given generator\n",
    "    discriminator = give_new_disc()\n",
    "    optimizer_discriminator = \\\n",
    "    torch.optim.RMSprop(discriminator.parameters(), lr=0.001)\n",
    "    disc_scheduler = torch.optim.lr_scheduler.StepLR(optimizer_discriminator, step_size=10, gamma=0.999)\n",
    "    generator.eval()\n",
    "    for i in range(6000):\n",
    "    # Set our models to training mode:\n",
    "        discriminator.train()\n",
    "        disc_scheduler.step()\n",
    "  \n",
    "    # Sampling reals and fakes\n",
    "        real = sample_images(BATCH_SIZE, train_leak)\n",
    "        fake = sample_fake(BATCH_SIZE)\n",
    "    \n",
    "    # Calculating the loss\n",
    "        discriminator_loss_this_iter = discriminator_loss(real, fake) + \\\n",
    "                                   discriminator_penalty(real)\n",
    "    \n",
    "    # Doing our regular optimization step for the discriminator\n",
    "        optimizer_discriminator.zero_grad()\n",
    "        discriminator_loss_this_iter.backward()\n",
    "        optimizer_discriminator.step()\n",
    "    \n",
    "        losses[i % VALIDATION_INTERVAL] = discriminator_loss_this_iter\n",
    "\n",
    "        if i % SAVE_INTERVAL == 0:\n",
    "            torch.save(generator, GENERATOR_FILE)\n",
    "            torch.save(discriminator, DISCRIMINATOR_FILE)\n",
    "    \n",
    "        if i % VALIDATION_INTERVAL == 0:\n",
    "            clear_output(wait=True)\n",
    "            plt.plot(np.log(losses))\n",
    "            plt.show()\n",
    "            \n",
    "    make_a_test(k)\n",
    "    make_another_test(k)\n",
    "    #do classical GAN learning using the generator made in the prevoius loop\n",
    "    for i in range(2000):\n",
    "          # Set our models to training mode:\n",
    "        generator.train()\n",
    "        discriminator.train()\n",
    "        gen_scheduler.step()\n",
    "        disc_scheduler.step()\n",
    "  \n",
    "        # Several discriminator updates per step:\n",
    "        for j in range(DISCRIMINATOR_ITERATIONS_PER_GENEREATOR):\n",
    "                # Sampling reals and fakes\n",
    "                real = sample_images(BATCH_SIZE)\n",
    "                fake = sample_fake(BATCH_SIZE)\n",
    "    \n",
    "                # Calculating the loss\n",
    "                discriminator_loss_this_iter = discriminator_loss(real, fake) + \\\n",
    "                                   discriminator_penalty(real)\n",
    "    \n",
    "            # Doing our regular optimization step for the discriminator\n",
    "                optimizer_discriminator.zero_grad()\n",
    "                discriminator_loss_this_iter.backward()\n",
    "                optimizer_discriminator.step()\n",
    "\n",
    "  \n",
    "\n",
    "          # Now it's generator's time to learn:\n",
    "        generator_loss_this_iter = generator_loss(sample_fake(BATCH_SIZE))\n",
    "\n",
    "        optimizer_generator.zero_grad()\n",
    "        generator_loss_this_iter.backward()\n",
    "        optimizer_generator.step()\n",
    "\n",
    "        if i % SAVE_INTERVAL == 0:\n",
    "                torch.save(generator, GENERATOR_FILE)\n",
    "                torch.save(discriminator, DISCRIMINATOR_FILE)\n",
    "    \n",
    "        if i % VALIDATION_INTERVAL == 0:\n",
    "                clear_output(wait=True)\n",
    "                generator.eval()\n",
    "                imgs = sample_fake(25).cpu().detach().numpy()\n",
    "                plot_images(imgs.clip(0, 1), title='Iteration '+str(i));\n",
    "                plt.show();\n",
    "    "
   ]
  },
  {
   "cell_type": "markdown",
   "metadata": {},
   "source": [
    "Above one can see either a graph of the discriminator log-loss or a sample generated by the generator."
   ]
  },
  {
   "cell_type": "code",
   "execution_count": 34,
   "metadata": {},
   "outputs": [
    {
     "data": {
      "image/png": "[encoded data removed]",
      "text/plain": [
       "<Figure size 432x288 with 1 Axes>"
      ]
     },
     "metadata": {
      "needs_background": "light"
     },
     "output_type": "display_data"
    }
   ],
   "source": [
    "plt.plot(totals)\n",
    "plt.title(\"Sustainability tests_1\")\n",
    "plt.show()"
   ]
  },
  {
   "cell_type": "code",
   "execution_count": 35,
   "metadata": {},
   "outputs": [
    {
     "data": {
      "image/png": "[encoded data removed]",
      "text/plain": [
       "<Figure size 432x288 with 1 Axes>"
      ]
     },
     "metadata": {
      "needs_background": "light"
     },
     "output_type": "display_data"
    }
   ],
   "source": [
    "plt.plot(totals_2)\n",
    "plt.title(\"Sustainability tests_2\")\n",
    "plt.show()"
   ]
  },
  {
   "cell_type": "markdown",
   "metadata": {},
   "source": [
    "The first graph is accuracy metric on a balanced sample containing only elements from train dataset and generated elements.\n",
    "The second graph is accuracy metric on a sample which contains elements from test dataset as well as generated elements. The share of elements from train ataset is one half in both cases.\n",
    "\n",
    "According to both the graphs, the network has become significantly more sustainable to white-box attacks."
   ]
  },
  {
   "cell_type": "code",
   "execution_count": null,
   "metadata": {},
   "outputs": [],
   "source": []
  },
  {
   "cell_type": "code",
   "execution_count": null,
   "metadata": {},
   "outputs": [],
   "source": []
  },
  {
   "cell_type": "code",
   "execution_count": null,
   "metadata": {},
   "outputs": [],
   "source": []
  },
  {
   "cell_type": "code",
   "execution_count": null,
   "metadata": {},
   "outputs": [],
   "source": []
  },
  {
   "cell_type": "code",
   "execution_count": null,
   "metadata": {},
   "outputs": [],
   "source": []
  },
  {
   "cell_type": "code",
   "execution_count": null,
   "metadata": {},
   "outputs": [],
   "source": []
  }
 ],
 "metadata": {
  "kernelspec": {
   "display_name": "Python 3",
   "language": "python",
   "name": "python3"
  },
  "language_info": {
   "codemirror_mode": {
    "name": "ipython",
    "version": 3
   },
   "file_extension": ".py",
   "mimetype": "text/x-python",
   "name": "python",
   "nbconvert_exporter": "python",
   "pygments_lexer": "ipython3",
   "version": "3.6.5"
  }
 },
 "nbformat": 4,
 "nbformat_minor": 2
}
