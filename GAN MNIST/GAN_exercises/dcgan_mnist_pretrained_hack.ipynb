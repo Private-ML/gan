{
 "cells": [
  {
   "cell_type": "markdown",
   "metadata": {},
   "source": [
    "# Hacking DCGAN\n",
    "\n",
    "In this section, we will attempt to make attacks against a pretrained DCGAN taken from https://github.com/csinva/gan-pretrained-pytorch/tree/master/mnist_dcgan. \n",
    "\n",
    "We will test white-box attacks against the model as well as black-box attacks with leakages. "
   ]
  },
  {
   "cell_type": "code",
   "execution_count": 1,
   "metadata": {},
   "outputs": [],
   "source": [
    "import os\n",
    "import torch\n",
    "import torchvision\n",
    "import torch.nn as nn\n",
    "from torchvision import transforms\n",
    "from torchvision.utils import save_image\n",
    "from torch.autograd import Variable\n",
    "import matplotlib.pyplot as plt\n",
    "import pylab\n",
    "import numpy as np\n",
    "%load_ext autoreload\n",
    "%autoreload 2"
   ]
  },
  {
   "cell_type": "code",
   "execution_count": 2,
   "metadata": {},
   "outputs": [],
   "source": [
    "num_gpu = 1 if torch.cuda.is_available() else 0\n",
    "\n",
    "# load the models\n",
    "from dcgan import Discriminator, Generator\n",
    "\n",
    "D = Discriminator(ngpu=1).eval()\n",
    "G = Generator(ngpu=1).eval()\n",
    "\n",
    "# load weights\n",
    "D.load_state_dict(torch.load('weights/netD_epoch_99.pth'))\n",
    "G.load_state_dict(torch.load('weights/netG_epoch_99.pth'))\n",
    "if torch.cuda.is_available():\n",
    "    D = D.cuda()\n",
    "    G = G.cuda()"
   ]
  },
  {
   "cell_type": "markdown",
   "metadata": {},
   "source": [
    "# generate some images"
   ]
  },
  {
   "cell_type": "code",
   "execution_count": 3,
   "metadata": {},
   "outputs": [
    {
     "data": {
      "image/png": "[encoded data removed]",
      "text/plain": [
       "<Figure size 432x288 with 25 Axes>"
      ]
     },
     "metadata": {
      "needs_background": "light"
     },
     "output_type": "display_data"
    }
   ],
   "source": [
    "batch_size = 25\n",
    "latent_size = 100\n",
    "\n",
    "fixed_noise = torch.randn(batch_size, latent_size, 1, 1)\n",
    "if torch.cuda.is_available():\n",
    "    fixed_noise = fixed_noise.cuda()\n",
    "fake_images = G(fixed_noise)\n",
    "\n",
    "\n",
    "# z = torch.randn(batch_size, latent_size).cuda()\n",
    "# z = Variable(z)\n",
    "# fake_images = G(z)\n",
    "\n",
    "fake_images_np = fake_images.cpu().detach().numpy()\n",
    "fake_images_np = fake_images_np.reshape(fake_images_np.shape[0], 28, 28)\n",
    "R, C = 5, 5\n",
    "for i in range(batch_size):\n",
    "    plt.subplot(R, C, i + 1)\n",
    "    plt.imshow(fake_images_np[i], cmap='gray')\n",
    "plt.show()"
   ]
  },
  {
   "cell_type": "markdown",
   "metadata": {},
   "source": [
    "# run discriminator"
   ]
  },
  {
   "cell_type": "code",
   "execution_count": 4,
   "metadata": {},
   "outputs": [
    {
     "name": "stdout",
     "output_type": "stream",
     "text": [
      "tensor([0.3637, 0.3287, 0.1344, 0.1916, 0.0687, 0.2328, 0.0093, 0.1784, 0.2777,\n",
      "        0.2366, 0.3450, 0.0193, 0.0255, 0.3317, 0.0805, 0.0934, 0.0038, 0.2055,\n",
      "        0.0190, 0.1122, 0.1923, 0.4695, 0.5440, 0.1841, 0.0686],\n",
      "       device='cuda:0', grad_fn=<SqueezeBackward1>)\n"
     ]
    }
   ],
   "source": [
    "outputs = D(fake_images)\n",
    "print(outputs)"
   ]
  },
  {
   "cell_type": "markdown",
   "metadata": {},
   "source": [
    "# Black-box attack"
   ]
  },
  {
   "cell_type": "code",
   "execution_count": 5,
   "metadata": {},
   "outputs": [],
   "source": [
    "from torch.nn.functional import logsigmoid"
   ]
  },
  {
   "cell_type": "code",
   "execution_count": 6,
   "metadata": {},
   "outputs": [],
   "source": [
    "generator = G"
   ]
  },
  {
   "cell_type": "code",
   "execution_count": 7,
   "metadata": {},
   "outputs": [],
   "source": [
    "LEAK_SHARE = 0.2 #how much elements have been delivered to an adversary"
   ]
  },
  {
   "cell_type": "code",
   "execution_count": 8,
   "metadata": {},
   "outputs": [],
   "source": [
    "import pandas as pd"
   ]
  },
  {
   "cell_type": "code",
   "execution_count": 9,
   "metadata": {},
   "outputs": [
    {
     "data": {
      "text/html": [
       "<div>\n",
       "<style scoped>\n",
       "    .dataframe tbody tr th:only-of-type {\n",
       "        vertical-align: middle;\n",
       "    }\n",
       "\n",
       "    .dataframe tbody tr th {\n",
       "        vertical-align: top;\n",
       "    }\n",
       "\n",
       "    .dataframe thead th {\n",
       "        text-align: right;\n",
       "    }\n",
       "</style>\n",
       "<table border=\"1\" class=\"dataframe\">\n",
       "  <thead>\n",
       "    <tr style=\"text-align: right;\">\n",
       "      <th></th>\n",
       "      <th>column_0</th>\n",
       "      <th>column_1</th>\n",
       "      <th>column_2</th>\n",
       "      <th>column_3</th>\n",
       "      <th>column_4</th>\n",
       "      <th>column_5</th>\n",
       "      <th>column_6</th>\n",
       "      <th>column_7</th>\n",
       "      <th>column_8</th>\n",
       "      <th>column_9</th>\n",
       "      <th>...</th>\n",
       "      <th>column_774</th>\n",
       "      <th>column_775</th>\n",
       "      <th>column_776</th>\n",
       "      <th>column_777</th>\n",
       "      <th>column_778</th>\n",
       "      <th>column_779</th>\n",
       "      <th>column_780</th>\n",
       "      <th>column_781</th>\n",
       "      <th>column_782</th>\n",
       "      <th>column_783</th>\n",
       "    </tr>\n",
       "  </thead>\n",
       "  <tbody>\n",
       "    <tr>\n",
       "      <td>0</td>\n",
       "      <td>0.0</td>\n",
       "      <td>0.0</td>\n",
       "      <td>0.0</td>\n",
       "      <td>0.0</td>\n",
       "      <td>0.0</td>\n",
       "      <td>0.0</td>\n",
       "      <td>0.0</td>\n",
       "      <td>0.0</td>\n",
       "      <td>0.0</td>\n",
       "      <td>0.0</td>\n",
       "      <td>...</td>\n",
       "      <td>0.0</td>\n",
       "      <td>0.0</td>\n",
       "      <td>0.0</td>\n",
       "      <td>0.0</td>\n",
       "      <td>0.0</td>\n",
       "      <td>0.0</td>\n",
       "      <td>0.0</td>\n",
       "      <td>0.0</td>\n",
       "      <td>0.0</td>\n",
       "      <td>0.0</td>\n",
       "    </tr>\n",
       "    <tr>\n",
       "      <td>1</td>\n",
       "      <td>0.0</td>\n",
       "      <td>0.0</td>\n",
       "      <td>0.0</td>\n",
       "      <td>0.0</td>\n",
       "      <td>0.0</td>\n",
       "      <td>0.0</td>\n",
       "      <td>0.0</td>\n",
       "      <td>0.0</td>\n",
       "      <td>0.0</td>\n",
       "      <td>0.0</td>\n",
       "      <td>...</td>\n",
       "      <td>0.0</td>\n",
       "      <td>0.0</td>\n",
       "      <td>0.0</td>\n",
       "      <td>0.0</td>\n",
       "      <td>0.0</td>\n",
       "      <td>0.0</td>\n",
       "      <td>0.0</td>\n",
       "      <td>0.0</td>\n",
       "      <td>0.0</td>\n",
       "      <td>0.0</td>\n",
       "    </tr>\n",
       "    <tr>\n",
       "      <td>2</td>\n",
       "      <td>0.0</td>\n",
       "      <td>0.0</td>\n",
       "      <td>0.0</td>\n",
       "      <td>0.0</td>\n",
       "      <td>0.0</td>\n",
       "      <td>0.0</td>\n",
       "      <td>0.0</td>\n",
       "      <td>0.0</td>\n",
       "      <td>0.0</td>\n",
       "      <td>0.0</td>\n",
       "      <td>...</td>\n",
       "      <td>0.0</td>\n",
       "      <td>0.0</td>\n",
       "      <td>0.0</td>\n",
       "      <td>0.0</td>\n",
       "      <td>0.0</td>\n",
       "      <td>0.0</td>\n",
       "      <td>0.0</td>\n",
       "      <td>0.0</td>\n",
       "      <td>0.0</td>\n",
       "      <td>0.0</td>\n",
       "    </tr>\n",
       "    <tr>\n",
       "      <td>3</td>\n",
       "      <td>0.0</td>\n",
       "      <td>0.0</td>\n",
       "      <td>0.0</td>\n",
       "      <td>0.0</td>\n",
       "      <td>0.0</td>\n",
       "      <td>0.0</td>\n",
       "      <td>0.0</td>\n",
       "      <td>0.0</td>\n",
       "      <td>0.0</td>\n",
       "      <td>0.0</td>\n",
       "      <td>...</td>\n",
       "      <td>0.0</td>\n",
       "      <td>0.0</td>\n",
       "      <td>0.0</td>\n",
       "      <td>0.0</td>\n",
       "      <td>0.0</td>\n",
       "      <td>0.0</td>\n",
       "      <td>0.0</td>\n",
       "      <td>0.0</td>\n",
       "      <td>0.0</td>\n",
       "      <td>0.0</td>\n",
       "    </tr>\n",
       "    <tr>\n",
       "      <td>4</td>\n",
       "      <td>0.0</td>\n",
       "      <td>0.0</td>\n",
       "      <td>0.0</td>\n",
       "      <td>0.0</td>\n",
       "      <td>0.0</td>\n",
       "      <td>0.0</td>\n",
       "      <td>0.0</td>\n",
       "      <td>0.0</td>\n",
       "      <td>0.0</td>\n",
       "      <td>0.0</td>\n",
       "      <td>...</td>\n",
       "      <td>0.0</td>\n",
       "      <td>0.0</td>\n",
       "      <td>0.0</td>\n",
       "      <td>0.0</td>\n",
       "      <td>0.0</td>\n",
       "      <td>0.0</td>\n",
       "      <td>0.0</td>\n",
       "      <td>0.0</td>\n",
       "      <td>0.0</td>\n",
       "      <td>0.0</td>\n",
       "    </tr>\n",
       "  </tbody>\n",
       "</table>\n",
       "<p>5 rows × 784 columns</p>\n",
       "</div>"
      ],
      "text/plain": [
       "   column_0  column_1  column_2  column_3  column_4  column_5  column_6  \\\n",
       "0       0.0       0.0       0.0       0.0       0.0       0.0       0.0   \n",
       "1       0.0       0.0       0.0       0.0       0.0       0.0       0.0   \n",
       "2       0.0       0.0       0.0       0.0       0.0       0.0       0.0   \n",
       "3       0.0       0.0       0.0       0.0       0.0       0.0       0.0   \n",
       "4       0.0       0.0       0.0       0.0       0.0       0.0       0.0   \n",
       "\n",
       "   column_7  column_8  column_9  ...  column_774  column_775  column_776  \\\n",
       "0       0.0       0.0       0.0  ...         0.0         0.0         0.0   \n",
       "1       0.0       0.0       0.0  ...         0.0         0.0         0.0   \n",
       "2       0.0       0.0       0.0  ...         0.0         0.0         0.0   \n",
       "3       0.0       0.0       0.0  ...         0.0         0.0         0.0   \n",
       "4       0.0       0.0       0.0  ...         0.0         0.0         0.0   \n",
       "\n",
       "   column_777  column_778  column_779  column_780  column_781  column_782  \\\n",
       "0         0.0         0.0         0.0         0.0         0.0         0.0   \n",
       "1         0.0         0.0         0.0         0.0         0.0         0.0   \n",
       "2         0.0         0.0         0.0         0.0         0.0         0.0   \n",
       "3         0.0         0.0         0.0         0.0         0.0         0.0   \n",
       "4         0.0         0.0         0.0         0.0         0.0         0.0   \n",
       "\n",
       "   column_783  \n",
       "0         0.0  \n",
       "1         0.0  \n",
       "2         0.0  \n",
       "3         0.0  \n",
       "4         0.0  \n",
       "\n",
       "[5 rows x 784 columns]"
      ]
     },
     "execution_count": 9,
     "metadata": {},
     "output_type": "execute_result"
    }
   ],
   "source": [
    "df = pd.read_csv('https://query.data.world/s/nap7jvxtupud25z5ljvtbzzjjsqqay')\n",
    "df.head()"
   ]
  },
  {
   "cell_type": "code",
   "execution_count": 10,
   "metadata": {},
   "outputs": [
    {
     "data": {
      "text/html": [
       "<div>\n",
       "<style scoped>\n",
       "    .dataframe tbody tr th:only-of-type {\n",
       "        vertical-align: middle;\n",
       "    }\n",
       "\n",
       "    .dataframe tbody tr th {\n",
       "        vertical-align: top;\n",
       "    }\n",
       "\n",
       "    .dataframe thead th {\n",
       "        text-align: right;\n",
       "    }\n",
       "</style>\n",
       "<table border=\"1\" class=\"dataframe\">\n",
       "  <thead>\n",
       "    <tr style=\"text-align: right;\">\n",
       "      <th></th>\n",
       "      <th>column_0</th>\n",
       "    </tr>\n",
       "  </thead>\n",
       "  <tbody>\n",
       "    <tr>\n",
       "      <td>0</td>\n",
       "      <td>0.0</td>\n",
       "    </tr>\n",
       "    <tr>\n",
       "      <td>1</td>\n",
       "      <td>0.0</td>\n",
       "    </tr>\n",
       "    <tr>\n",
       "      <td>2</td>\n",
       "      <td>0.0</td>\n",
       "    </tr>\n",
       "    <tr>\n",
       "      <td>3</td>\n",
       "      <td>0.0</td>\n",
       "    </tr>\n",
       "    <tr>\n",
       "      <td>4</td>\n",
       "      <td>0.0</td>\n",
       "    </tr>\n",
       "  </tbody>\n",
       "</table>\n",
       "</div>"
      ],
      "text/plain": [
       "   column_0\n",
       "0       0.0\n",
       "1       0.0\n",
       "2       0.0\n",
       "3       0.0\n",
       "4       0.0"
      ]
     },
     "execution_count": 10,
     "metadata": {},
     "output_type": "execute_result"
    }
   ],
   "source": [
    "target = pd.read_csv('https://query.data.world/s/sn3dximsq5sw3a6wtqoc3okulevugz')\n",
    "target.head()"
   ]
  },
  {
   "cell_type": "code",
   "execution_count": 11,
   "metadata": {},
   "outputs": [],
   "source": [
    "from sklearn.model_selection import train_test_split\n",
    "train, test, tar_train, tar_test = train_test_split(df, target, test_size=0.2, random_state=12345)"
   ]
  },
  {
   "cell_type": "code",
   "execution_count": 12,
   "metadata": {},
   "outputs": [],
   "source": [
    "train = np.array(train, dtype='float')\n",
    "test = np.array(test, dtype='float')\n",
    "tar_train = np.array(tar_train, dtype='float')\n",
    "tar_test = np.array(tar_test, dtype='float')"
   ]
  },
  {
   "cell_type": "code",
   "execution_count": 13,
   "metadata": {},
   "outputs": [],
   "source": [
    "train= train.reshape((-1, 1, 28, 28)) / 255.\n",
    "test= test.reshape((-1, 1, 28, 28)) / 255."
   ]
  },
  {
   "cell_type": "code",
   "execution_count": 14,
   "metadata": {},
   "outputs": [],
   "source": [
    "n_leak = round(LEAK_SHARE * train.shape[0])"
   ]
  },
  {
   "cell_type": "code",
   "execution_count": 15,
   "metadata": {},
   "outputs": [],
   "source": [
    "train_leak = train[np.random.permutation(train.shape[0])]\n",
    "train_check = train_leak[n_leak:]\n",
    "train_leak = train_leak[0:n_leak]"
   ]
  },
  {
   "cell_type": "code",
   "execution_count": 16,
   "metadata": {},
   "outputs": [],
   "source": [
    "class Reshape(torch.nn.Module):\n",
    "  \"\"\"\n",
    "  Reshapes a tensor starting from the 1st dimension (not 0th),\n",
    "  i. e. without influencing the batch dimension.\n",
    "  \"\"\"\n",
    "  def __init__(self, *shape):\n",
    "    super(Reshape, self).__init__()\n",
    "    self.shape = shape\n",
    "\n",
    "  def forward(self, x):\n",
    "    return x.view(x.shape[0], *self.shape)\n",
    "  \n",
    "class Flatten(nn.Module):\n",
    "    def forward(self, input):\n",
    "        return input.view(input.shape[0], -1)"
   ]
  },
  {
   "cell_type": "code",
   "execution_count": 17,
   "metadata": {},
   "outputs": [],
   "source": [
    "DROPOUT_RATE = 0.1\n",
    "discriminator = nn.Sequential(\n",
    "           #Reshape(1, 28,28),\n",
    "           torch.nn.Conv2d(1, 8, kernel_size=3, padding=1),\n",
    "           torch.nn.ELU(),\n",
    "           torch.nn.Dropout(p=DROPOUT_RATE),\n",
    "      \n",
    "            torch.nn.MaxPool2d(2), # 18x18\n",
    "      \n",
    "            torch.nn.Conv2d(8, 32, kernel_size=3, padding=1),\n",
    "            torch.nn.ELU(),\n",
    "            torch.nn.Dropout(p=DROPOUT_RATE),\n",
    "      \n",
    "            torch.nn.MaxPool2d(2), # 9x9\n",
    "      \n",
    "            torch.nn.Conv2d(32, 64, kernel_size=3), # 7x7\n",
    "            torch.nn.ELU(),\n",
    "            torch.nn.Dropout(p=DROPOUT_RATE),\n",
    "      \n",
    "            torch.nn.Conv2d(64, 256, kernel_size=3), # 5x5\n",
    "            torch.nn.ELU(),\n",
    "            torch.nn.Dropout(p=DROPOUT_RATE),\n",
    "      \n",
    "            torch.nn.Conv2d(256, 512, kernel_size=3), # 3x3\n",
    "            torch.nn.ELU(),\n",
    "            torch.nn.Dropout(p=DROPOUT_RATE),\n",
    "      \n",
    "             Reshape(512),\n",
    "             torch.nn.Linear(512, 1)\n",
    ").cuda()"
   ]
  },
  {
   "cell_type": "code",
   "execution_count": 18,
   "metadata": {},
   "outputs": [],
   "source": [
    "import os\n",
    "\n",
    "GDRIVE_PATH = '/data/apsidorenko'\n",
    "THIS_EXERCISE_PATH = os.path.join(GDRIVE_PATH, \"GAN_exercises\")\n",
    "MODELS_HOME = os.path.join(THIS_EXERCISE_PATH, \"mnist guns\")"
   ]
  },
  {
   "cell_type": "code",
   "execution_count": 19,
   "metadata": {},
   "outputs": [],
   "source": [
    "DISCRIMINATOR_FILE = os.path.join(MODELS_HOME, 'discriminator_dcgan_bamboo.pt')"
   ]
  },
  {
   "cell_type": "code",
   "execution_count": 74,
   "metadata": {},
   "outputs": [],
   "source": [
    "def sample_fake(batch_size):\n",
    "  noise = torch.randn(batch_size, latent_size, 1, 1, device=\"cuda\")\n",
    "  return G(noise)"
   ]
  },
  {
   "cell_type": "code",
   "execution_count": 75,
   "metadata": {},
   "outputs": [],
   "source": [
    "def sample_images(batch_size, train=train):\n",
    "  ids = np.random.choice(len(train), size=batch_size)\n",
    "  return torch.tensor(train[ids], device=\"cuda\").float()"
   ]
  },
  {
   "cell_type": "code",
   "execution_count": 22,
   "metadata": {},
   "outputs": [],
   "source": [
    "noise_power = 0.2\n",
    "gradient_penalty = 0.0001\n",
    "\n",
    "\n",
    "  \n",
    "def discriminator_loss(real, fake):\n",
    "  return -logsigmoid(discriminator(\n",
    "              real + torch.randn(*real.shape, device=\"cuda\") * noise_power\n",
    "          )).mean() - \\\n",
    "          logsigmoid(-discriminator(\n",
    "              fake + torch.randn(*fake.shape, device=\"cuda\") * noise_power\n",
    "          )).mean()\n",
    "\n",
    "def discriminator_penalty(real, size=gradient_penalty):\n",
    "  scores = discriminator(real)\n",
    "  grad_params = torch.autograd.grad(scores.mean(), discriminator.parameters(),\n",
    "                                    create_graph=True)\n",
    "  penalty = sum((grad**2).sum() for grad in grad_params)\n",
    "  return penalty * size"
   ]
  },
  {
   "cell_type": "code",
   "execution_count": 23,
   "metadata": {},
   "outputs": [],
   "source": [
    "optimizer_discriminator = \\\n",
    "    torch.optim.RMSprop(discriminator.parameters(), lr=0.001)\n",
    "\n",
    "disc_scheduler = torch.optim.lr_scheduler.StepLR(optimizer_discriminator, step_size=10, gamma=0.999)"
   ]
  },
  {
   "cell_type": "code",
   "execution_count": 24,
   "metadata": {},
   "outputs": [],
   "source": [
    "VALIDATION_INTERVAL = 150\n",
    "SAVE_INTERVAL = 500\n",
    "#DISCRIMINATOR_ITERATIONS_PER_GENEREATOR = 5\n",
    "BATCH_SIZE=128"
   ]
  },
  {
   "cell_type": "code",
   "execution_count": 45,
   "metadata": {},
   "outputs": [],
   "source": [
    "LOOPS = 100"
   ]
  },
  {
   "cell_type": "code",
   "execution_count": 46,
   "metadata": {},
   "outputs": [],
   "source": [
    "losses = np.zeros(LOOPS)"
   ]
  },
  {
   "cell_type": "code",
   "execution_count": 47,
   "metadata": {},
   "outputs": [],
   "source": [
    "from IPython.display import clear_output\n",
    "for i in range(LOOPS):\n",
    "  # Set our models to training mode:\n",
    "    discriminator.train()\n",
    "    disc_scheduler.step()\n",
    "  \n",
    "    # Sampling reals and fakes\n",
    "    real = sample_images(BATCH_SIZE, train_leak)\n",
    "    fake = sample_fake(BATCH_SIZE)\n",
    "    \n",
    "    # Calculating the loss\n",
    "    discriminator_loss_this_iter = discriminator_loss(real, fake) + \\\n",
    "                                   discriminator_penalty(real)\n",
    "    \n",
    "    # Doing our regular optimization step for the discriminator\n",
    "    optimizer_discriminator.zero_grad()\n",
    "    discriminator_loss_this_iter.backward()\n",
    "    optimizer_discriminator.step()\n",
    "    \n",
    "    losses[i] = discriminator_loss_this_iter\n",
    "\n",
    "    if i % SAVE_INTERVAL == 0:\n",
    "        #torch.save(generator, GENERATOR_FILE)\n",
    "        torch.save(discriminator, DISCRIMINATOR_FILE)\n",
    "    \n",
    "    if i % VALIDATION_INTERVAL == 0:\n",
    "        clear_output(wait=True)\n",
    "        generator.eval()\n",
    "        imgs = sample_fake(25).cpu().detach().numpy()\n",
    "        #plot_images(imgs.clip(0, 1), title='Iteration '+str(i));\n",
    "        plt.show();"
   ]
  },
  {
   "cell_type": "code",
   "execution_count": 48,
   "metadata": {},
   "outputs": [
    {
     "data": {
      "text/plain": [
       "[<matplotlib.lines.Line2D at 0x7f9e1b033390>]"
      ]
     },
     "execution_count": 48,
     "metadata": {},
     "output_type": "execute_result"
    },
    {
     "data": {
      "image/png": "[encoded data removed]",
      "text/plain": [
       "<Figure size 432x288 with 1 Axes>"
      ]
     },
     "metadata": {
      "needs_background": "light"
     },
     "output_type": "display_data"
    }
   ],
   "source": [
    "plt.plot(losses)"
   ]
  },
  {
   "cell_type": "markdown",
   "metadata": {},
   "source": [
    "# Results of black-box"
   ]
  },
  {
   "cell_type": "code",
   "execution_count": 49,
   "metadata": {},
   "outputs": [],
   "source": [
    "test_leak = np.concatenate((train_check[np.random.permutation(train_check.shape[0])][0:1000], \n",
    "                            sample_fake(1000).cpu().detach().numpy()), axis=0)"
   ]
  },
  {
   "cell_type": "code",
   "execution_count": 50,
   "metadata": {},
   "outputs": [
    {
     "data": {
      "text/html": [
       "<div>\n",
       "<style scoped>\n",
       "    .dataframe tbody tr th:only-of-type {\n",
       "        vertical-align: middle;\n",
       "    }\n",
       "\n",
       "    .dataframe tbody tr th {\n",
       "        vertical-align: top;\n",
       "    }\n",
       "\n",
       "    .dataframe thead th {\n",
       "        text-align: right;\n",
       "    }\n",
       "</style>\n",
       "<table border=\"1\" class=\"dataframe\">\n",
       "  <thead>\n",
       "    <tr style=\"text-align: right;\">\n",
       "      <th></th>\n",
       "      <th>ans</th>\n",
       "      <th>label</th>\n",
       "    </tr>\n",
       "  </thead>\n",
       "  <tbody>\n",
       "    <tr>\n",
       "      <td>0</td>\n",
       "      <td>5.266081</td>\n",
       "      <td>1</td>\n",
       "    </tr>\n",
       "    <tr>\n",
       "      <td>1</td>\n",
       "      <td>5.414906</td>\n",
       "      <td>1</td>\n",
       "    </tr>\n",
       "    <tr>\n",
       "      <td>2</td>\n",
       "      <td>5.047741</td>\n",
       "      <td>1</td>\n",
       "    </tr>\n",
       "    <tr>\n",
       "      <td>3</td>\n",
       "      <td>5.096313</td>\n",
       "      <td>1</td>\n",
       "    </tr>\n",
       "    <tr>\n",
       "      <td>4</td>\n",
       "      <td>5.225200</td>\n",
       "      <td>1</td>\n",
       "    </tr>\n",
       "  </tbody>\n",
       "</table>\n",
       "</div>"
      ],
      "text/plain": [
       "        ans  label\n",
       "0  5.266081      1\n",
       "1  5.414906      1\n",
       "2  5.047741      1\n",
       "3  5.096313      1\n",
       "4  5.225200      1"
      ]
     },
     "execution_count": 50,
     "metadata": {},
     "output_type": "execute_result"
    }
   ],
   "source": [
    "ans = discriminator(torch.tensor(test_leak).float().cuda()).cpu().detach().numpy().reshape(-1)\n",
    "labels = np.array([x < 1000 for x in range(2000)], dtype=int)\n",
    "df = pd.DataFrame({'ans':ans, 'label':labels})\n",
    "df.head()"
   ]
  },
  {
   "cell_type": "code",
   "execution_count": 51,
   "metadata": {},
   "outputs": [],
   "source": [
    "recall = df.sort_values(by='ans', ascending=False).iloc[0:1000]['label'].sum() / 1000"
   ]
  },
  {
   "cell_type": "code",
   "execution_count": 52,
   "metadata": {},
   "outputs": [
    {
     "name": "stdout",
     "output_type": "stream",
     "text": [
      "The recall of the model is:  1.0\n"
     ]
    }
   ],
   "source": [
    "print(\"The recall of the model is: \", recall)"
   ]
  },
  {
   "cell_type": "markdown",
   "metadata": {},
   "source": [
    "It is very hard to believe, but this attack is a complete success here. One has to make this network more sustainable to such attacks."
   ]
  },
  {
   "cell_type": "markdown",
   "metadata": {},
   "source": [
    "# White-box attack"
   ]
  },
  {
   "cell_type": "markdown",
   "metadata": {},
   "source": [
    "Suppose an adversary has all the network. Assumption that the discriminator might have been overfit leads an idea that the discriminator could react on samples which were in the train set. "
   ]
  },
  {
   "cell_type": "code",
   "execution_count": 57,
   "metadata": {},
   "outputs": [
    {
     "data": {
      "text/html": [
       "<div>\n",
       "<style scoped>\n",
       "    .dataframe tbody tr th:only-of-type {\n",
       "        vertical-align: middle;\n",
       "    }\n",
       "\n",
       "    .dataframe tbody tr th {\n",
       "        vertical-align: top;\n",
       "    }\n",
       "\n",
       "    .dataframe thead th {\n",
       "        text-align: right;\n",
       "    }\n",
       "</style>\n",
       "<table border=\"1\" class=\"dataframe\">\n",
       "  <thead>\n",
       "    <tr style=\"text-align: right;\">\n",
       "      <th></th>\n",
       "      <th>ans</th>\n",
       "      <th>label</th>\n",
       "    </tr>\n",
       "  </thead>\n",
       "  <tbody>\n",
       "    <tr>\n",
       "      <td>0</td>\n",
       "      <td>1.000000</td>\n",
       "      <td>1</td>\n",
       "    </tr>\n",
       "    <tr>\n",
       "      <td>1</td>\n",
       "      <td>0.966152</td>\n",
       "      <td>1</td>\n",
       "    </tr>\n",
       "    <tr>\n",
       "      <td>2</td>\n",
       "      <td>1.000000</td>\n",
       "      <td>1</td>\n",
       "    </tr>\n",
       "    <tr>\n",
       "      <td>3</td>\n",
       "      <td>1.000000</td>\n",
       "      <td>1</td>\n",
       "    </tr>\n",
       "    <tr>\n",
       "      <td>4</td>\n",
       "      <td>1.000000</td>\n",
       "      <td>1</td>\n",
       "    </tr>\n",
       "  </tbody>\n",
       "</table>\n",
       "</div>"
      ],
      "text/plain": [
       "        ans  label\n",
       "0  1.000000      1\n",
       "1  0.966152      1\n",
       "2  1.000000      1\n",
       "3  1.000000      1\n",
       "4  1.000000      1"
      ]
     },
     "execution_count": 57,
     "metadata": {},
     "output_type": "execute_result"
    }
   ],
   "source": [
    "#'D' is a pretrained discriminator but 'discriminator' is my model\n",
    "ans = D(torch.tensor(test_leak).float().cuda()).cpu().detach().numpy().reshape(-1)\n",
    "labels = np.array([x < 1000 for x in range(2000)], dtype=int)\n",
    "df = pd.DataFrame({'ans':ans, 'label':labels})\n",
    "df.head()"
   ]
  },
  {
   "cell_type": "code",
   "execution_count": 58,
   "metadata": {},
   "outputs": [],
   "source": [
    "recall = df.sort_values(by='ans', ascending=False).iloc[0:1000]['label'].sum() / 1000"
   ]
  },
  {
   "cell_type": "code",
   "execution_count": 59,
   "metadata": {},
   "outputs": [
    {
     "name": "stdout",
     "output_type": "stream",
     "text": [
      "The recall of the model is:  0.955\n"
     ]
    }
   ],
   "source": [
    "print(\"The recall of the model is: \", recall)"
   ]
  },
  {
   "cell_type": "markdown",
   "metadata": {},
   "source": [
    "Surprisingly, the white-box attack works against the DCGAN rather well. "
   ]
  },
  {
   "cell_type": "markdown",
   "metadata": {},
   "source": [
    "# Summary"
   ]
  },
  {
   "cell_type": "markdown",
   "metadata": {},
   "source": [
    "<b> DCGAN is an ideal example of making attacks against it. Also it provides a room for improvements one may invent.</b>"
   ]
  },
  {
   "cell_type": "markdown",
   "metadata": {},
   "source": [
    "# Black-box attack without leakages"
   ]
  },
  {
   "cell_type": "markdown",
   "metadata": {},
   "source": [
    "Suppose leakage in my train_set did not occur. Suppose an adversary is not a PhD on neural network and is not aware of DCGAN. Under those assumptions, we will try to construct a silly GAN (or simply SGAN) which will be learned on <b>generated data</b> as if it were <b>real samples</b>."
   ]
  },
  {
   "cell_type": "markdown",
   "metadata": {},
   "source": [
    "At first, we will make some technical work"
   ]
  },
  {
   "cell_type": "code",
   "execution_count": 79,
   "metadata": {},
   "outputs": [],
   "source": [
    "import os\n",
    "\n",
    "GDRIVE_PATH = '/data/apsidorenko'\n",
    "THIS_EXERCISE_PATH = os.path.join(GDRIVE_PATH, \"GAN_exercises\")\n",
    "MODELS_HOME = os.path.join(THIS_EXERCISE_PATH, \"mnist guns\")"
   ]
  },
  {
   "cell_type": "code",
   "execution_count": 80,
   "metadata": {},
   "outputs": [],
   "source": [
    "os.makedirs(THIS_EXERCISE_PATH, exist_ok=True)\n",
    "os.makedirs(MODELS_HOME, exist_ok=True)"
   ]
  },
  {
   "cell_type": "code",
   "execution_count": 81,
   "metadata": {},
   "outputs": [],
   "source": [
    "GENERATOR_FILE = os.path.join(MODELS_HOME, 'generator_hack.pt')\n",
    "DISCRIMINATOR_FILE = os.path.join(MODELS_HOME, 'discriminator_hack.pt')"
   ]
  },
  {
   "cell_type": "code",
   "execution_count": 82,
   "metadata": {},
   "outputs": [],
   "source": [
    "import matplotlib.pyplot as plt\n",
    "import matplotlib"
   ]
  },
  {
   "cell_type": "code",
   "execution_count": 83,
   "metadata": {},
   "outputs": [
    {
     "data": {
      "image/png": "[encoded data removed]",
      "text/plain": [
       "<Figure size 576x576 with 25 Axes>"
      ]
     },
     "metadata": {
      "needs_background": "light"
     },
     "output_type": "display_data"
    }
   ],
   "source": [
    "def plot_images(images: np.ndarray,\n",
    "                nrows: int=5, ncols: int=5,\n",
    "                shuffle: bool=True,\n",
    "                title: str=\"\",\n",
    "                figure: matplotlib.figure.Figure=None) -> matplotlib.figure.Figure:\n",
    "  \"\"\"\n",
    "  Plots a subset of images.\n",
    "  \n",
    "  Args:\n",
    "    images[n_images, n_channels, width, height]: a dataset with images to plot\n",
    "    nrows: number of images in a plotted row\n",
    "    ncols: numer of images in a plotted colunm\n",
    "    shuffle: if True draw a random subset of images, if False -- the first ones\n",
    "    figure: if not None, it's used for plotting, if None, a new one is created\n",
    "  \n",
    "  Returns:\n",
    "    a figure containing the plotted images\n",
    "  \"\"\"\n",
    "  if shuffle:\n",
    "    images_to_plot = images[np.random.permutation(len(images))[:nrows*ncols]]\n",
    "  else:\n",
    "    images_to_plot = images[:nrows * ncols]\n",
    "  h, w = images_to_plot.shape[2:]\n",
    "  if figure is None:\n",
    "    figure = plt.figure(figsize=(8,8))\n",
    "  \n",
    "  axes = figure.subplots(nrows=nrows, ncols=ncols)\n",
    "  for row_idx, ax_row in enumerate(axes):\n",
    "    for col_idx, ax in enumerate(ax_row):\n",
    "      ax.imshow(images_to_plot[row_idx + ncols*col_idx, 0],\n",
    "                interpolation=\"none\")\n",
    "      ax.set_axis_off()\n",
    "\n",
    "  figure.suptitle(title, fontsize=18)\n",
    "  return figure\n",
    "\n",
    "plot_images(train, title=\"Some REAL digits\");"
   ]
  },
  {
   "cell_type": "markdown",
   "metadata": {},
   "source": [
    "Now we are ready to build the SGAN (it means \"Silly GAN\")."
   ]
  },
  {
   "cell_type": "code",
   "execution_count": 86,
   "metadata": {},
   "outputs": [
    {
     "name": "stdout",
     "output_type": "stream",
     "text": [
      "Files did not found: making new nets\n",
      "\n"
     ]
    }
   ],
   "source": [
    "CODE_SIZE = 256\n",
    "DROPOUT_RATE = 0.2\n",
    "\n",
    "try:\n",
    "  generator = torch.load(GENERATOR_FILE)\n",
    "  discriminator = torch.load(DISCRIMINATOR_FILE)\n",
    "except FileNotFoundError:\n",
    "  print('Files did not found: making new nets\\n')\n",
    "  generator = torch.nn.Sequential(      \n",
    "      torch.nn.Linear(CODE_SIZE, 256*3*3),\n",
    "      torch.nn.ELU(),\n",
    "      torch.nn.Dropout(p=DROPOUT_RATE),\n",
    "      \n",
    "      Reshape(256, 3, 3), # 3x3\n",
    "      torch.nn.Conv2d(256, 128, kernel_size=3, padding=1),\n",
    "      torch.nn.ELU(),\n",
    "      torch.nn.Dropout(p=DROPOUT_RATE),\n",
    "      \n",
    "      torch.nn.Upsample(scale_factor=2), # 6x6\n",
    "      \n",
    "      torch.nn.Conv2d(128, 64, kernel_size=3, padding=1),\n",
    "      torch.nn.ELU(),\n",
    "      torch.nn.Dropout(p=DROPOUT_RATE),\n",
    "      \n",
    "      torch.nn.ConvTranspose2d(64, 64, kernel_size=3), # 8x8\n",
    "      torch.nn.ELU(),\n",
    "      torch.nn.Dropout(p=DROPOUT_RATE),\n",
    "      \n",
    "      torch.nn.Upsample(scale_factor=2), # 16x16\n",
    "      \n",
    "      torch.nn.Conv2d(64, 32, kernel_size=3, padding=1),\n",
    "      torch.nn.ELU(),\n",
    "      torch.nn.Dropout(p=DROPOUT_RATE),\n",
    "      \n",
    "      torch.nn.Upsample(scale_factor=2), # 32x32\n",
    "      torch.nn.Conv2d(32, 16, kernel_size=3, padding=0), # 30x30\n",
    "      torch.nn.ELU(),\n",
    "      \n",
    "      torch.nn.Dropout(p=DROPOUT_RATE),\n",
    "      torch.nn.Conv2d(16, 8, kernel_size=3, padding=0), # 28x28\n",
    "      torch.nn.ELU(),\n",
    "      \n",
    "      torch.nn.Dropout(p=DROPOUT_RATE),\n",
    "      torch.nn.ConvTranspose2d(8, 1, kernel_size=1), # 28x28\n",
    ").cuda()\n",
    "\n",
    "  discriminator = nn.Sequential(\n",
    "           #Reshape(1, 28,28),\n",
    "           torch.nn.Conv2d(1, 8, kernel_size=3, padding=1),\n",
    "           torch.nn.ELU(),\n",
    "           torch.nn.Dropout(p=DROPOUT_RATE),\n",
    "      \n",
    "            torch.nn.MaxPool2d(2), # 18x18\n",
    "      \n",
    "            torch.nn.Conv2d(8, 32, kernel_size=3, padding=1),\n",
    "            torch.nn.ELU(),\n",
    "            torch.nn.Dropout(p=DROPOUT_RATE),\n",
    "      \n",
    "            torch.nn.MaxPool2d(2), # 9x9\n",
    "      \n",
    "            torch.nn.Conv2d(32, 64, kernel_size=3), # 7x7\n",
    "            torch.nn.ELU(),\n",
    "            torch.nn.Dropout(p=DROPOUT_RATE),\n",
    "      \n",
    "            torch.nn.Conv2d(64, 256, kernel_size=3), # 5x5\n",
    "            torch.nn.ELU(),\n",
    "            torch.nn.Dropout(p=DROPOUT_RATE),\n",
    "      \n",
    "            torch.nn.Conv2d(256, 512, kernel_size=3), # 3x3\n",
    "            torch.nn.ELU(),\n",
    "            torch.nn.Dropout(p=DROPOUT_RATE),\n",
    "      \n",
    "             Reshape(512),\n",
    "             torch.nn.Linear(512, 1)\n",
    ").cuda()"
   ]
  },
  {
   "cell_type": "code",
   "execution_count": 90,
   "metadata": {},
   "outputs": [],
   "source": [
    "def sample_fake(batch_size):\n",
    "  noise = torch.randn(batch_size, CODE_SIZE, device=\"cuda\")\n",
    "  return generator(noise)"
   ]
  },
  {
   "cell_type": "code",
   "execution_count": 92,
   "metadata": {},
   "outputs": [],
   "source": [
    "#WARNING: this function gives images made by DCGAN\n",
    "def sample_images(batch_size):\n",
    "  noise = torch.randn(batch_size, latent_size, 1, 1, device=\"cuda\")\n",
    "  return G(noise)"
   ]
  },
  {
   "cell_type": "code",
   "execution_count": 93,
   "metadata": {},
   "outputs": [
    {
     "data": {
      "image/png": "[encoded data removed]",
      "text/plain": [
       "<Figure size 576x576 with 25 Axes>"
      ]
     },
     "metadata": {
      "needs_background": "light"
     },
     "output_type": "display_data"
    }
   ],
   "source": [
    "generator.eval()\n",
    "imgs = sample_fake(25).cpu().detach().numpy()\n",
    "plot_images(imgs.clip(0, 1));"
   ]
  },
  {
   "cell_type": "code",
   "execution_count": 94,
   "metadata": {},
   "outputs": [],
   "source": [
    "noise_power = 0.2\n",
    "gradient_penalty = 0.0001\n",
    "\n",
    "def generator_loss(fake):\n",
    "  return -logsigmoid(discriminator(\n",
    "              fake + torch.randn(*fake.shape, device=\"cuda\") * noise_power\n",
    "          )).mean()\n",
    "  \n",
    "  \n",
    "def discriminator_loss(real, fake):\n",
    "  return -logsigmoid(discriminator(\n",
    "              real + torch.randn(*real.shape, device=\"cuda\") * noise_power\n",
    "          )).mean() - \\\n",
    "          logsigmoid(-discriminator(\n",
    "              fake + torch.randn(*fake.shape, device=\"cuda\") * noise_power\n",
    "          )).mean()\n",
    "\n",
    "def discriminator_penalty(real, size=gradient_penalty):\n",
    "  scores = discriminator(real)\n",
    "  grad_params = torch.autograd.grad(scores.mean(), discriminator.parameters(),\n",
    "                                    create_graph=True)\n",
    "  penalty = sum((grad**2).sum() for grad in grad_params)\n",
    "  return penalty * size"
   ]
  },
  {
   "cell_type": "code",
   "execution_count": 95,
   "metadata": {},
   "outputs": [],
   "source": [
    "optimizer_generator = \\\n",
    "    torch.optim.RMSprop(generator.parameters(), lr=0.001)\n",
    "optimizer_discriminator = \\\n",
    "    torch.optim.RMSprop(discriminator.parameters(), lr=0.001)\n",
    "\n",
    "disc_scheduler = torch.optim.lr_scheduler.StepLR(optimizer_discriminator, step_size=10, gamma=0.999)\n",
    "gen_scheduler = torch.optim.lr_scheduler.StepLR(optimizer_generator, step_size=10, gamma=0.999)"
   ]
  },
  {
   "cell_type": "code",
   "execution_count": 96,
   "metadata": {},
   "outputs": [],
   "source": [
    "VALIDATION_INTERVAL = 150\n",
    "SAVE_INTERVAL = 500\n",
    "DISCRIMINATOR_ITERATIONS_PER_GENEREATOR = 5\n",
    "BATCH_SIZE=128"
   ]
  },
  {
   "cell_type": "code",
   "execution_count": 97,
   "metadata": {},
   "outputs": [
    {
     "data": {
      "image/png": "[encoded data removed]",
      "text/plain": [
       "<Figure size 576x576 with 25 Axes>"
      ]
     },
     "metadata": {
      "needs_background": "light"
     },
     "output_type": "display_data"
    }
   ],
   "source": [
    "from IPython.display import clear_output\n",
    "for i in range(100):\n",
    "  # Set our models to training mode:\n",
    "  generator.train()\n",
    "  discriminator.train()\n",
    "  gen_scheduler.step()\n",
    "  disc_scheduler.step()\n",
    "  \n",
    "  # Several discriminator updates per step:\n",
    "  for j in range(DISCRIMINATOR_ITERATIONS_PER_GENEREATOR):\n",
    "    # Sampling reals and fakes\n",
    "    real = sample_images(BATCH_SIZE)\n",
    "    fake = sample_fake(BATCH_SIZE)\n",
    "    \n",
    "    # Calculating the loss\n",
    "    discriminator_loss_this_iter = discriminator_loss(real, fake) + \\\n",
    "                                   discriminator_penalty(real)\n",
    "    \n",
    "    # Doing our regular optimization step for the discriminator\n",
    "    optimizer_discriminator.zero_grad()\n",
    "    discriminator_loss_this_iter.backward()\n",
    "    optimizer_discriminator.step()\n",
    "\n",
    "  # Pass the discriminator loss to Tensorboard for plotting \n",
    "  #summary_writer.add_scalar(\"discriminator loss\", discriminator_loss_this_iter,\n",
    "   #                          global_step=i)\n",
    "\n",
    "  # Now it's generator's time to learn:\n",
    "  generator_loss_this_iter = generator_loss(sample_fake(BATCH_SIZE))\n",
    "  #summary_writer.add_scalar(\"generator loss\", generator_loss_this_iter,\n",
    "   #                         global_step=i)\n",
    "  optimizer_generator.zero_grad()\n",
    "  generator_loss_this_iter.backward()\n",
    "  optimizer_generator.step()\n",
    "\n",
    "  if i % SAVE_INTERVAL == 0:\n",
    "    torch.save(generator, GENERATOR_FILE)\n",
    "    torch.save(discriminator, DISCRIMINATOR_FILE)\n",
    "    \n",
    "  if i % VALIDATION_INTERVAL == 0:\n",
    "    clear_output(wait=True)\n",
    "    generator.eval()\n",
    "    imgs = sample_fake(25).cpu().detach().numpy()\n",
    "    plot_images(imgs.clip(0, 1), title='Iteration '+str(i));\n",
    "    plt.show();"
   ]
  },
  {
   "cell_type": "code",
   "execution_count": null,
   "metadata": {},
   "outputs": [],
   "source": []
  }
 ],
 "metadata": {
  "kernelspec": {
   "display_name": "Python 3",
   "language": "python",
   "name": "python3"
  },
  "language_info": {
   "codemirror_mode": {
    "name": "ipython",
    "version": 3
   },
   "file_extension": ".py",
   "mimetype": "text/x-python",
   "name": "python",
   "nbconvert_exporter": "python",
   "pygments_lexer": "ipython3",
   "version": "3.6.8"
  }
 },
 "nbformat": 4,
 "nbformat_minor": 2
}
