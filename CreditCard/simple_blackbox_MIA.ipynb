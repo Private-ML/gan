{
  "nbformat": 4,
  "nbformat_minor": 0,
  "metadata": {
    "colab": {
      "name": "simple_blackbox_MIA.ipynb",
      "provenance": [],
      "collapsed_sections": []
    },
    "kernelspec": {
      "name": "python3",
      "display_name": "Python 3"
    },
    "accelerator": "GPU"
  },
  "cells": [
    {
      "cell_type": "markdown",
      "metadata": {
        "id": "view-in-github",
        "colab_type": "text"
      },
      "source": [
        "<a href=\"https://colab.research.google.com/github/Private-ML/gan/blob/master/SimpleGan.ipynb\" target=\"_parent\"><img src=\"https://colab.research.google.com/assets/colab-badge.svg\" alt=\"Open In Colab\"/></a>"
      ]
    },
    {
      "cell_type": "code",
      "metadata": {
        "id": "zd3FJHxBYpkN",
        "colab_type": "code",
        "colab": {}
      },
      "source": [
        "%matplotlib inline\n",
        "import matplotlib.pyplot as plt\n",
        "from IPython.display import clear_output\n",
        "import numpy as np\n",
        "import pandas as pd\n",
        "from scipy.stats import ks_2samp\n",
        "from sklearn.model_selection import train_test_split\n",
        "import torch\n",
        "import pickle\n",
        "import torch.nn as nn\n",
        "import torch.nn.functional as F\n",
        "import torch.utils.data\n",
        "\n",
        "TRAIN_BATCH_SIZE = 100"
      ],
      "execution_count": 0,
      "outputs": []
    },
    {
      "cell_type": "code",
      "metadata": {
        "id": "gAz9SljLB3qw",
        "colab_type": "code",
        "colab": {}
      },
      "source": [
        "from google.colab import drive\n",
        "drive.mount(\"/content/drive/\")"
      ],
      "execution_count": 0,
      "outputs": []
    },
    {
      "cell_type": "code",
      "metadata": {
        "id": "4TPYjOH1B5KJ",
        "colab_type": "code",
        "colab": {}
      },
      "source": [
        "gen_file = \"/content/drive/My Drive/State_of_the_art_2019/gan/generator.pt\"\n",
        "disc_file = \"/content/drive/My Drive/State_of_the_art_2019/gan/discriminator.pt\"\n",
        "trans_file = \"/content/drive/My Drive/State_of_the_art_2019/gan/transformer\"\n",
        "gen = torch.load(gen_file)\n",
        "disc = torch.load(disc_file)\n",
        "with open(trans_file, 'rb') as f:\n",
        "  transformer = pickle.load(f)"
      ],
      "execution_count": 0,
      "outputs": []
    },
    {
      "cell_type": "code",
      "metadata": {
        "id": "4bdC1vG0h8XI",
        "colab_type": "code",
        "colab": {}
      },
      "source": [
        "LATENT_DIM = 30\n",
        "TRAIN_BATCH_SIZE = 1024\n",
        "FEATURES = 31"
      ],
      "execution_count": 0,
      "outputs": []
    },
    {
      "cell_type": "code",
      "metadata": {
        "id": "99oafydm_44C",
        "colab_type": "code",
        "colab": {}
      },
      "source": [
        "gen_over = nn.Sequential(nn.Linear(LATENT_DIM, 27), nn.ReLU(),\n",
        "                    nn.Linear(27, 27), nn.ReLU(),\n",
        "                    nn.Linear(27, FEATURES)).cuda()\n",
        "gen_opt = torch.optim.RMSprop(gen_over.parameters(), lr=1e-3)\n",
        "gen_scheduler = torch.optim.lr_scheduler.MultiStepLR(gen_opt, milestones=[10000, 30000], gamma=0.1)"
      ],
      "execution_count": 0,
      "outputs": []
    },
    {
      "cell_type": "code",
      "metadata": {
        "id": "llL1WkTkATLA",
        "colab_type": "code",
        "colab": {}
      },
      "source": [
        "disc_over = nn.Sequential(nn.Linear(FEATURES, 34), nn.ReLU(),\n",
        "                     nn.Linear(34, 32), nn.ReLU(),\n",
        "                     nn.Linear(32, 27), nn.ReLU(),\n",
        "                     nn.Linear(27, 1)).cuda()\n",
        "\n",
        "disc_opt = torch.optim.RMSprop(disc_over.parameters(), lr=1e-3)\n",
        "disc_scheduler = torch.optim.lr_scheduler.MultiStepLR(disc_opt, milestones=[10000, 30000], gamma=0.1)"
      ],
      "execution_count": 0,
      "outputs": []
    },
    {
      "cell_type": "code",
      "metadata": {
        "id": "tu2dUPHXijUH",
        "colab_type": "code",
        "colab": {}
      },
      "source": [
        "def sample_real_gen(batch_size):\n",
        "  ids = np.random.choice(len(train), size=batch_size)\n",
        "  return torch.tensor(train[ids], device=\"cuda\", dtype=torch.float)\n",
        "\n",
        "def sample_gen_data(batch_size):\n",
        "  noise = torch.rand(batch_size, LATENT_DIM, device=\"cuda\")\n",
        "  return gen_over(noise)"
      ],
      "execution_count": 0,
      "outputs": []
    },
    {
      "cell_type": "code",
      "metadata": {
        "id": "wA_WZqVspS0Z",
        "colab_type": "code",
        "colab": {}
      },
      "source": [
        "noise = torch.rand(TRAIN_BATCH_SIZE * 100, LATENT_DIM, device=\"cuda\")\n",
        "data = np.array(gen(noise).cpu().detach().numpy())\n",
        "train, test = train_test_split(data, test_size=0.1)"
      ],
      "execution_count": 0,
      "outputs": []
    },
    {
      "cell_type": "code",
      "metadata": {
        "id": "6hS4ohuAAhDj",
        "colab_type": "code",
        "colab": {}
      },
      "source": [
        "def calc_gradient_penalty_classic(critic:torch.nn.Module,\n",
        "                                  real_data:torch.Tensor,\n",
        "                                  fake_data:torch.Tensor):\n",
        "  assert real_data.shape == fake_data.shape\n",
        "  alpha = torch.rand(real_data.shape[0], 1)\n",
        "  alpha = alpha.expand(real_data.size()).cuda()\n",
        "\n",
        "  interpolates = (alpha * real_data + ((1 - alpha) * fake_data)).cuda()\n",
        "  interpolates = torch.autograd.Variable(interpolates, requires_grad=True)\n",
        "\n",
        "  disc_interpolates = critic(interpolates)\n",
        "\n",
        "  gradients = torch.autograd.grad(\n",
        "      outputs=disc_interpolates, inputs=interpolates,\n",
        "      grad_outputs=torch.ones(disc_interpolates.size(), device=\"cuda\"),\n",
        "      create_graph=True, retain_graph=True, only_inputs=True)[0]\n",
        "\n",
        "  gradient_penalty = ((gradients.norm(2, dim=1) - 1) ** 2).mean()\n",
        "  return gradient_penalty"
      ],
      "execution_count": 0,
      "outputs": []
    },
    {
      "cell_type": "code",
      "metadata": {
        "id": "K02itTGCA0kc",
        "colab_type": "code",
        "colab": {}
      },
      "source": [
        "LAMBDA = 1.\n",
        "def train_disc(gan_type=\"WGAN-GP\"):\n",
        "    real_data = sample_real_gen(TRAIN_BATCH_SIZE)\n",
        "    gen_data = sample_gen_data(TRAIN_BATCH_SIZE)\n",
        "    \n",
        "    if gan_type == \"JS\":\n",
        "      disc_loss = -logsigmoid(disc_over(\n",
        "              real_data\n",
        "          )).mean() - \\\n",
        "          logsigmoid(-disc_over(\n",
        "              gen_data\n",
        "          )).mean()\n",
        "    elif gan_type == \"WGAN-GP\":\n",
        "      disc_loss = -(disc_over(\n",
        "              real_data\n",
        "          )).mean() - \\\n",
        "          (-disc_over(\n",
        "              gen_data\n",
        "          )).mean() + \\\n",
        "                  calc_gradient_penalty_classic(disc_over, real_data, gen_data)*LAMBDA\n",
        "    else:\n",
        "      raise ValueError(\"Unknown GAN type. Valid ones are: JS, WGAN-GP\")\n",
        "    \n",
        "    disc_opt.zero_grad()\n",
        "    disc_loss.backward()\n",
        "    disc_opt.step()\n",
        "    return disc_loss"
      ],
      "execution_count": 0,
      "outputs": []
    },
    {
      "cell_type": "code",
      "metadata": {
        "id": "sFe39Tn3A8E7",
        "colab_type": "code",
        "colab": {}
      },
      "source": [
        "def train_gen(gan_type=\"WGAN-GP\"):\n",
        "    gen_data = sample_gen_data(TRAIN_BATCH_SIZE)\n",
        "    \n",
        "    if gan_type == \"JS\":\n",
        "      gen_loss = -logsigmoid(disc_over(\n",
        "              gen_data\n",
        "          )).mean()\n",
        "    elif gan_type == \"WGAN-GP\":\n",
        "      gen_loss = -(disc_over(\n",
        "              gen_data\n",
        "          )).mean()\n",
        "    \n",
        "    gen_opt.zero_grad()\n",
        "    gen_loss.backward()\n",
        "    gen_opt.step()\n",
        "    return gen_loss"
      ],
      "execution_count": 0,
      "outputs": []
    },
    {
      "cell_type": "code",
      "metadata": {
        "id": "fNyhI8ZiBFLW",
        "colab_type": "code",
        "outputId": "5cffe86d-c330-4453-b1d6-0748a9dc21d3",
        "colab": {
          "base_uri": "https://localhost:8080/",
          "height": 63
        }
      },
      "source": [
        "import os\n",
        "from torch.utils.tensorboard import SummaryWriter\n",
        "TENSORBOARD_LOGDIR = \"./logs\"\n",
        "MODEL_NAME = \"DIRCv16\"\n",
        "summary_writer = SummaryWriter(log_dir=os.path.join(TENSORBOARD_LOGDIR, MODEL_NAME))"
      ],
      "execution_count": 0,
      "outputs": [
        {
          "output_type": "display_data",
          "data": {
            "text/html": [
              "<p style=\"color: red;\">\n",
              "The default version of TensorFlow in Colab will soon switch to TensorFlow 2.x.<br>\n",
              "We recommend you <a href=\"https://www.tensorflow.org/guide/migrate\" target=\"_blank\">upgrade</a> now \n",
              "or ensure your notebook will continue to use TensorFlow 1.x via the <code>%tensorflow_version 1.x</code> magic:\n",
              "<a href=\"https://colab.research.google.com/notebooks/tensorflow_version.ipynb\" target=\"_blank\">more info</a>.</p>\n"
            ],
            "text/plain": [
              "<IPython.core.display.HTML object>"
            ]
          },
          "metadata": {
            "tags": []
          }
        }
      ]
    },
    {
      "cell_type": "code",
      "metadata": {
        "id": "bJJszRErBHwS",
        "colab_type": "code",
        "outputId": "4ab0c436-3906-43c7-95ea-17338d2c9060",
        "colab": {
          "base_uri": "https://localhost:8080/",
          "height": 463
        }
      },
      "source": [
        "from torch.nn.functional import logsigmoid\n",
        "DISCRIMINATOR_ITERATIONS_PER_GENEREATOR = 5\n",
        "VALIDATION_INTERVAL = 200\n",
        "HIST_BINS=100\n",
        "DATA_HIST_RANGE=[-5, 5]\n",
        "\n",
        "data_linspace_np = np.linspace(0, 10, num=1024, dtype=np.float32)\n",
        "data_linspace_torch = torch.from_numpy(data_linspace_np)[:, None].cuda()\n",
        "validation_data = torch.from_numpy(test).cuda()\n",
        "validation_data_np = test\n",
        "validation_x = validation_data[:, FEATURES:]\n",
        "\n",
        "for i in range(100000):\n",
        "    gen_scheduler.step()\n",
        "    disc_scheduler.step()\n",
        "    for _ in range(DISCRIMINATOR_ITERATIONS_PER_GENEREATOR):\n",
        "        disc_loss_this_iter = train_disc()\n",
        "    \n",
        "    gen_loss_this_iter = train_gen()\n",
        "    summary_writer.add_scalar(\"discriminator loss\", disc_loss_this_iter,\n",
        "                              global_step=i)\n",
        "    summary_writer.add_scalar(\"generator loss\", gen_loss_this_iter,\n",
        "                              global_step=i)\n",
        "    if i % VALIDATION_INTERVAL == 0:\n",
        "        clear_output(True)        \n",
        "        validation_generated = sample_gen_data(TRAIN_BATCH_SIZE)\n",
        "        validation_generated_np = validation_generated.data.cpu().numpy()\n",
        "        \n",
        "        fig, axes_list = plt.subplots(ncols=5, figsize=[6*4, 6])\n",
        "        for index, ax in enumerate(axes_list):\n",
        "          ax.hist(validation_generated_np[:, index], range=DATA_HIST_RANGE,\n",
        "                  alpha=0.5, density=True, label='Generated', bins=HIST_BINS)\n",
        "          ax.hist(validation_data_np[:, index], range=DATA_HIST_RANGE,\n",
        "                  alpha=0.5, density=True, label='Real', bins=HIST_BINS)\n",
        "          ax.set_xlabel(data[:, index])\n",
        "          ks_result = ks_2samp(validation_generated_np[:, index],\n",
        "                                    validation_data_np[:, index])\n",
        "          ax.set_title(\"KS stat = {:.4f}; p-value = {:.4E}\".format(*tuple(ks_result)))\n",
        "        fig.suptitle(\"Iteration {}\".format(i))\n",
        "        plt.show()"
      ],
      "execution_count": 25,
      "outputs": [
        {
          "output_type": "display_data",
          "data": {
            "image/png": "[encoded data removed]",
            "text/plain": [
              "<Figure size 1728x432 with 5 Axes>"
            ]
          },
          "metadata": {
            "tags": []
          }
        }
      ]
    },
    {
      "cell_type": "code",
      "metadata": {
        "id": "1C_wTZSSAhFW",
        "colab_type": "code",
        "colab": {}
      },
      "source": [
        ""
      ],
      "execution_count": 0,
      "outputs": []
    }
  ]
}