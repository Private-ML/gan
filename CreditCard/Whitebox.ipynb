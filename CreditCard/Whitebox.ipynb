{
 "cells": [
  {
   "cell_type": "code",
   "execution_count": 199,
   "metadata": {
    "colab": {
     "base_uri": "https://localhost:8080/",
     "height": 35
    },
    "colab_type": "code",
    "id": "_nmueLEBfQP1",
    "outputId": "46315958-373a-43e2-844d-9dbd9c33c6a1"
   },
   "outputs": [
    {
     "name": "stdout",
     "output_type": "stream",
     "text": [
      "Drive already mounted at /content/gdrive; to attempt to forcibly remount, call drive.mount(\"/content/gdrive\", force_remount=True).\n"
     ]
    }
   ],
   "source": [
    "import os\n",
    "from google.colab import drive\n",
    "GDRIVE_PATH = '/content/gdrive'\n",
    "THIS_EXERCISE_PATH = os.path.join(GDRIVE_PATH, \"My Drive\", \"CreditCardGan\")\n",
    "MODELS_HOME = os.path.join(THIS_EXERCISE_PATH, \"models\")\n",
    "drive.mount(GDRIVE_PATH)"
   ]
  },
  {
   "cell_type": "code",
   "execution_count": 1,
   "metadata": {},
   "outputs": [],
   "source": [
    "import os\n",
    "THIS_EXERCISE_PATH = \".\"\n",
    "MODELS_HOME = os.path.join(THIS_EXERCISE_PATH, \"models\")"
   ]
  },
  {
   "cell_type": "code",
   "execution_count": 2,
   "metadata": {
    "colab": {},
    "colab_type": "code",
    "id": "aVzjGh5zfY0e"
   },
   "outputs": [],
   "source": [
    "import pandas as pd\n",
    "data = pd.read_csv('https://query.data.world/s/zruvk5e5icrymfmrwrihhzbuaha37h')"
   ]
  },
  {
   "cell_type": "code",
   "execution_count": 3,
   "metadata": {
    "colab": {},
    "colab_type": "code",
    "id": "T5iQJSLcftOU"
   },
   "outputs": [],
   "source": [
    "%matplotlib inline\n",
    "import matplotlib.pyplot as plt\n",
    "from IPython.display import clear_output\n",
    "import numpy as np\n",
    "import pandas as pd\n",
    "from scipy.stats import ks_2samp\n",
    "from sklearn.model_selection import train_test_split\n",
    "from sklearn.metrics import roc_auc_score\n",
    "import torch\n",
    "import torch.nn as nn\n",
    "import torch.nn.functional as F\n",
    "import torch.utils.data\n",
    "import pickle"
   ]
  },
  {
   "cell_type": "code",
   "execution_count": 4,
   "metadata": {
    "colab": {},
    "colab_type": "code",
    "id": "FLlqSxvNfwv_"
   },
   "outputs": [],
   "source": [
    "with open(os.path.join(MODELS_HOME, 'transformer'), 'rb') as file:\n",
    "    transformer = pickle.load(file)\n",
    "data_transformed = torch.tensor(transformer.transform(data), device='cuda', dtype=torch.float)"
   ]
  },
  {
   "cell_type": "code",
   "execution_count": 5,
   "metadata": {
    "colab": {},
    "colab_type": "code",
    "id": "CTnJ1XbKgu5z"
   },
   "outputs": [],
   "source": [
    "disc = torch.load(os.path.join(MODELS_HOME, 'discriminator.pt'))"
   ]
  },
  {
   "cell_type": "code",
   "execution_count": 6,
   "metadata": {
    "colab": {},
    "colab_type": "code",
    "id": "Lzi5GA9Sh98U"
   },
   "outputs": [],
   "source": [
    "predicted = disc(data_transformed)"
   ]
  },
  {
   "cell_type": "code",
   "execution_count": 7,
   "metadata": {
    "colab": {},
    "colab_type": "code",
    "id": "qcDZD-VIl3DT"
   },
   "outputs": [],
   "source": [
    "predicted = predicted.cpu().detach().numpy()"
   ]
  },
  {
   "cell_type": "code",
   "execution_count": 8,
   "metadata": {
    "colab": {},
    "colab_type": "code",
    "id": "_nmLwRs0meXO"
   },
   "outputs": [],
   "source": [
    "predicted_aranged = list(zip(predicted.reshape(-1), range(predicted.shape[0])))"
   ]
  },
  {
   "cell_type": "code",
   "execution_count": 9,
   "metadata": {
    "colab": {},
    "colab_type": "code",
    "id": "9ldfgws4o2-6"
   },
   "outputs": [],
   "source": [
    "predicted_aranged.sort()"
   ]
  },
  {
   "cell_type": "markdown",
   "metadata": {
    "colab_type": "text",
    "id": "ZH7Psh3atuMa"
   },
   "source": [
    "# Validation"
   ]
  },
  {
   "cell_type": "code",
   "execution_count": 10,
   "metadata": {
    "colab": {},
    "colab_type": "code",
    "id": "8MC61-8yzd1t"
   },
   "outputs": [],
   "source": [
    "train, test = train_test_split(range(data_transformed.shape[0]), test_size=0.5, random_state=42)"
   ]
  },
  {
   "cell_type": "code",
   "execution_count": 11,
   "metadata": {
    "colab": {},
    "colab_type": "code",
    "id": "BmLFnF0fqWDy"
   },
   "outputs": [],
   "source": [
    "supposion = list(map(lambda x: x[1], predicted_aranged[len(test):]))"
   ]
  },
  {
   "cell_type": "code",
   "execution_count": 12,
   "metadata": {
    "colab": {},
    "colab_type": "code",
    "id": "kw_Z8DWjK0G5"
   },
   "outputs": [],
   "source": [
    "y_true = np.zeros(data_transformed.shape[0])\n",
    "y_true[train] = 1\n",
    "y_predicted = np.zeros(data_transformed.shape[0])\n",
    "y_predicted[supposion] = 1"
   ]
  },
  {
   "cell_type": "code",
   "execution_count": 13,
   "metadata": {
    "colab": {
     "base_uri": "https://localhost:8080/",
     "height": 35
    },
    "colab_type": "code",
    "id": "iS8wWVsWLYxK",
    "outputId": "88080120-e9ef-47b7-e3e4-5f4663f43fa8"
   },
   "outputs": [
    {
     "data": {
      "text/plain": [
       "0.5009532771253787"
      ]
     },
     "execution_count": 13,
     "metadata": {},
     "output_type": "execute_result"
    }
   ],
   "source": [
    "roc_auc_score(y_true, y_predicted)"
   ]
  },
  {
   "cell_type": "code",
   "execution_count": 14,
   "metadata": {},
   "outputs": [
    {
     "data": {
      "text/plain": [
       "284807"
      ]
     },
     "execution_count": 14,
     "metadata": {},
     "output_type": "execute_result"
    }
   ],
   "source": [
    "data_transformed.shape[0]"
   ]
  },
  {
   "cell_type": "code",
   "execution_count": null,
   "metadata": {},
   "outputs": [],
   "source": []
  }
 ],
 "metadata": {
  "accelerator": "GPU",
  "colab": {
   "name": "Whitebox.ipynb",
   "provenance": []
  },
  "kernelspec": {
   "display_name": "Python 3",
   "language": "python",
   "name": "python3"
  },
  "language_info": {
   "codemirror_mode": {
    "name": "ipython",
    "version": 3
   },
   "file_extension": ".py",
   "mimetype": "text/x-python",
   "name": "python",
   "nbconvert_exporter": "python",
   "pygments_lexer": "ipython3",
   "version": "3.7.4"
  }
 },
 "nbformat": 4,
 "nbformat_minor": 1
}
